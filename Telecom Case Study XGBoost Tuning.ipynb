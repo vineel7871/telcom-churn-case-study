{
 "cells": [
  {
   "cell_type": "markdown",
   "id": "7cc4ff1b",
   "metadata": {},
   "source": [
    "### Importing modules"
   ]
  },
  {
   "cell_type": "code",
   "execution_count": 8,
   "id": "083f91fb",
   "metadata": {},
   "outputs": [],
   "source": [
    "import pandas as pd\n",
    "import numpy as np\n",
    "import seaborn as sns\n",
    "import matplotlib.pyplot as plt\n",
    "\n",
    "from pathlib import Path\n",
    "import os, json, re\n",
    "\n",
    "import warnings\n",
    "warnings.filterwarnings(\"ignore\")\n",
    "\n",
    "pd.set_option('display.max_rows', None)\n",
    "\n",
    "%matplotlib inline"
   ]
  },
  {
   "cell_type": "markdown",
   "id": "64baaeb9",
   "metadata": {},
   "source": [
    "### Importing Data"
   ]
  },
  {
   "cell_type": "code",
   "execution_count": 9,
   "id": "4d58256a",
   "metadata": {},
   "outputs": [
    {
     "data": {
      "text/html": [
       "<div>\n",
       "<style scoped>\n",
       "    .dataframe tbody tr th:only-of-type {\n",
       "        vertical-align: middle;\n",
       "    }\n",
       "\n",
       "    .dataframe tbody tr th {\n",
       "        vertical-align: top;\n",
       "    }\n",
       "\n",
       "    .dataframe thead th {\n",
       "        text-align: right;\n",
       "    }\n",
       "</style>\n",
       "<table border=\"1\" class=\"dataframe\">\n",
       "  <thead>\n",
       "    <tr style=\"text-align: right;\">\n",
       "      <th></th>\n",
       "      <th>mobile_number</th>\n",
       "      <th>circle_id</th>\n",
       "      <th>loc_og_t2o_mou</th>\n",
       "      <th>std_og_t2o_mou</th>\n",
       "      <th>loc_ic_t2o_mou</th>\n",
       "      <th>last_date_of_month_6</th>\n",
       "      <th>last_date_of_month_7</th>\n",
       "      <th>last_date_of_month_8</th>\n",
       "      <th>last_date_of_month_9</th>\n",
       "      <th>arpu_6</th>\n",
       "      <th>...</th>\n",
       "      <th>sachet_3g_9</th>\n",
       "      <th>fb_user_6</th>\n",
       "      <th>fb_user_7</th>\n",
       "      <th>fb_user_8</th>\n",
       "      <th>fb_user_9</th>\n",
       "      <th>aon</th>\n",
       "      <th>aug_vbc_3g</th>\n",
       "      <th>jul_vbc_3g</th>\n",
       "      <th>jun_vbc_3g</th>\n",
       "      <th>sep_vbc_3g</th>\n",
       "    </tr>\n",
       "  </thead>\n",
       "  <tbody>\n",
       "    <tr>\n",
       "      <th>0</th>\n",
       "      <td>7000842753</td>\n",
       "      <td>109</td>\n",
       "      <td>0.0</td>\n",
       "      <td>0.0</td>\n",
       "      <td>0.0</td>\n",
       "      <td>6/30/2014</td>\n",
       "      <td>7/31/2014</td>\n",
       "      <td>8/31/2014</td>\n",
       "      <td>9/30/2014</td>\n",
       "      <td>197.385</td>\n",
       "      <td>...</td>\n",
       "      <td>0</td>\n",
       "      <td>1.0</td>\n",
       "      <td>1.0</td>\n",
       "      <td>1.0</td>\n",
       "      <td>NaN</td>\n",
       "      <td>968</td>\n",
       "      <td>30.4</td>\n",
       "      <td>0.0</td>\n",
       "      <td>101.20</td>\n",
       "      <td>3.58</td>\n",
       "    </tr>\n",
       "    <tr>\n",
       "      <th>1</th>\n",
       "      <td>7001865778</td>\n",
       "      <td>109</td>\n",
       "      <td>0.0</td>\n",
       "      <td>0.0</td>\n",
       "      <td>0.0</td>\n",
       "      <td>6/30/2014</td>\n",
       "      <td>7/31/2014</td>\n",
       "      <td>8/31/2014</td>\n",
       "      <td>9/30/2014</td>\n",
       "      <td>34.047</td>\n",
       "      <td>...</td>\n",
       "      <td>0</td>\n",
       "      <td>NaN</td>\n",
       "      <td>1.0</td>\n",
       "      <td>1.0</td>\n",
       "      <td>NaN</td>\n",
       "      <td>1006</td>\n",
       "      <td>0.0</td>\n",
       "      <td>0.0</td>\n",
       "      <td>0.00</td>\n",
       "      <td>0.00</td>\n",
       "    </tr>\n",
       "    <tr>\n",
       "      <th>2</th>\n",
       "      <td>7001625959</td>\n",
       "      <td>109</td>\n",
       "      <td>0.0</td>\n",
       "      <td>0.0</td>\n",
       "      <td>0.0</td>\n",
       "      <td>6/30/2014</td>\n",
       "      <td>7/31/2014</td>\n",
       "      <td>8/31/2014</td>\n",
       "      <td>9/30/2014</td>\n",
       "      <td>167.690</td>\n",
       "      <td>...</td>\n",
       "      <td>0</td>\n",
       "      <td>NaN</td>\n",
       "      <td>NaN</td>\n",
       "      <td>NaN</td>\n",
       "      <td>1.0</td>\n",
       "      <td>1103</td>\n",
       "      <td>0.0</td>\n",
       "      <td>0.0</td>\n",
       "      <td>4.17</td>\n",
       "      <td>0.00</td>\n",
       "    </tr>\n",
       "    <tr>\n",
       "      <th>3</th>\n",
       "      <td>7001204172</td>\n",
       "      <td>109</td>\n",
       "      <td>0.0</td>\n",
       "      <td>0.0</td>\n",
       "      <td>0.0</td>\n",
       "      <td>6/30/2014</td>\n",
       "      <td>7/31/2014</td>\n",
       "      <td>8/31/2014</td>\n",
       "      <td>9/30/2014</td>\n",
       "      <td>221.338</td>\n",
       "      <td>...</td>\n",
       "      <td>0</td>\n",
       "      <td>NaN</td>\n",
       "      <td>NaN</td>\n",
       "      <td>NaN</td>\n",
       "      <td>NaN</td>\n",
       "      <td>2491</td>\n",
       "      <td>0.0</td>\n",
       "      <td>0.0</td>\n",
       "      <td>0.00</td>\n",
       "      <td>0.00</td>\n",
       "    </tr>\n",
       "    <tr>\n",
       "      <th>4</th>\n",
       "      <td>7000142493</td>\n",
       "      <td>109</td>\n",
       "      <td>0.0</td>\n",
       "      <td>0.0</td>\n",
       "      <td>0.0</td>\n",
       "      <td>6/30/2014</td>\n",
       "      <td>7/31/2014</td>\n",
       "      <td>8/31/2014</td>\n",
       "      <td>9/30/2014</td>\n",
       "      <td>261.636</td>\n",
       "      <td>...</td>\n",
       "      <td>0</td>\n",
       "      <td>0.0</td>\n",
       "      <td>NaN</td>\n",
       "      <td>NaN</td>\n",
       "      <td>NaN</td>\n",
       "      <td>1526</td>\n",
       "      <td>0.0</td>\n",
       "      <td>0.0</td>\n",
       "      <td>0.00</td>\n",
       "      <td>0.00</td>\n",
       "    </tr>\n",
       "  </tbody>\n",
       "</table>\n",
       "<p>5 rows × 226 columns</p>\n",
       "</div>"
      ],
      "text/plain": [
       "   mobile_number  circle_id  loc_og_t2o_mou  std_og_t2o_mou  loc_ic_t2o_mou  \\\n",
       "0     7000842753        109             0.0             0.0             0.0   \n",
       "1     7001865778        109             0.0             0.0             0.0   \n",
       "2     7001625959        109             0.0             0.0             0.0   \n",
       "3     7001204172        109             0.0             0.0             0.0   \n",
       "4     7000142493        109             0.0             0.0             0.0   \n",
       "\n",
       "  last_date_of_month_6 last_date_of_month_7 last_date_of_month_8  \\\n",
       "0            6/30/2014            7/31/2014            8/31/2014   \n",
       "1            6/30/2014            7/31/2014            8/31/2014   \n",
       "2            6/30/2014            7/31/2014            8/31/2014   \n",
       "3            6/30/2014            7/31/2014            8/31/2014   \n",
       "4            6/30/2014            7/31/2014            8/31/2014   \n",
       "\n",
       "  last_date_of_month_9   arpu_6  ...  sachet_3g_9  fb_user_6  fb_user_7  \\\n",
       "0            9/30/2014  197.385  ...            0        1.0        1.0   \n",
       "1            9/30/2014   34.047  ...            0        NaN        1.0   \n",
       "2            9/30/2014  167.690  ...            0        NaN        NaN   \n",
       "3            9/30/2014  221.338  ...            0        NaN        NaN   \n",
       "4            9/30/2014  261.636  ...            0        0.0        NaN   \n",
       "\n",
       "   fb_user_8  fb_user_9   aon  aug_vbc_3g  jul_vbc_3g  jun_vbc_3g  sep_vbc_3g  \n",
       "0        1.0        NaN   968        30.4         0.0      101.20        3.58  \n",
       "1        1.0        NaN  1006         0.0         0.0        0.00        0.00  \n",
       "2        NaN        1.0  1103         0.0         0.0        4.17        0.00  \n",
       "3        NaN        NaN  2491         0.0         0.0        0.00        0.00  \n",
       "4        NaN        NaN  1526         0.0         0.0        0.00        0.00  \n",
       "\n",
       "[5 rows x 226 columns]"
      ]
     },
     "execution_count": 9,
     "metadata": {},
     "output_type": "execute_result"
    }
   ],
   "source": [
    "data = pd.read_csv(\"./telecom_churn_data.csv\")\n",
    "data.head()"
   ]
  },
  {
   "cell_type": "code",
   "execution_count": 10,
   "id": "fe256496",
   "metadata": {},
   "outputs": [
    {
     "data": {
      "text/plain": [
       "(99999, 226)"
      ]
     },
     "execution_count": 10,
     "metadata": {},
     "output_type": "execute_result"
    }
   ],
   "source": [
    "# look at the shape of the data\n",
    "data.shape"
   ]
  },
  {
   "cell_type": "code",
   "execution_count": 11,
   "id": "fa419fc1",
   "metadata": {},
   "outputs": [
    {
     "data": {
      "text/plain": [
       "226"
      ]
     },
     "execution_count": 11,
     "metadata": {},
     "output_type": "execute_result"
    }
   ],
   "source": [
    "# look at number of columns\n",
    "len(list(data.columns))"
   ]
  },
  {
   "cell_type": "code",
   "execution_count": 12,
   "id": "7a2fb067",
   "metadata": {},
   "outputs": [
    {
     "name": "stdout",
     "output_type": "stream",
     "text": [
      "<class 'pandas.core.frame.DataFrame'>\n",
      "RangeIndex: 99999 entries, 0 to 99998\n",
      "Columns: 226 entries, mobile_number to sep_vbc_3g\n",
      "dtypes: float64(179), int64(35), object(12)\n",
      "memory usage: 172.4+ MB\n"
     ]
    }
   ],
   "source": [
    "# peek at the data type of data\n",
    "data.info()"
   ]
  },
  {
   "cell_type": "code",
   "execution_count": 13,
   "id": "16a73629",
   "metadata": {},
   "outputs": [
    {
     "data": {
      "text/html": [
       "<div>\n",
       "<style scoped>\n",
       "    .dataframe tbody tr th:only-of-type {\n",
       "        vertical-align: middle;\n",
       "    }\n",
       "\n",
       "    .dataframe tbody tr th {\n",
       "        vertical-align: top;\n",
       "    }\n",
       "\n",
       "    .dataframe thead th {\n",
       "        text-align: right;\n",
       "    }\n",
       "</style>\n",
       "<table border=\"1\" class=\"dataframe\">\n",
       "  <thead>\n",
       "    <tr style=\"text-align: right;\">\n",
       "      <th></th>\n",
       "      <th>mobile_number</th>\n",
       "      <th>circle_id</th>\n",
       "      <th>loc_og_t2o_mou</th>\n",
       "      <th>std_og_t2o_mou</th>\n",
       "      <th>loc_ic_t2o_mou</th>\n",
       "      <th>last_date_of_month_6</th>\n",
       "      <th>last_date_of_month_7</th>\n",
       "      <th>last_date_of_month_8</th>\n",
       "      <th>last_date_of_month_9</th>\n",
       "      <th>arpu_6</th>\n",
       "      <th>...</th>\n",
       "      <th>sachet_3g_9</th>\n",
       "      <th>fb_user_6</th>\n",
       "      <th>fb_user_7</th>\n",
       "      <th>fb_user_8</th>\n",
       "      <th>fb_user_9</th>\n",
       "      <th>aon</th>\n",
       "      <th>aug_vbc_3g</th>\n",
       "      <th>jul_vbc_3g</th>\n",
       "      <th>jun_vbc_3g</th>\n",
       "      <th>sep_vbc_3g</th>\n",
       "    </tr>\n",
       "  </thead>\n",
       "  <tbody>\n",
       "    <tr>\n",
       "      <th>count</th>\n",
       "      <td>9.999900e+04</td>\n",
       "      <td>99999.0</td>\n",
       "      <td>98981.0</td>\n",
       "      <td>98981.0</td>\n",
       "      <td>98981.0</td>\n",
       "      <td>99999</td>\n",
       "      <td>99398</td>\n",
       "      <td>98899</td>\n",
       "      <td>98340</td>\n",
       "      <td>99999.000000</td>\n",
       "      <td>...</td>\n",
       "      <td>99999.000000</td>\n",
       "      <td>25153.000000</td>\n",
       "      <td>25571.000000</td>\n",
       "      <td>26339.000000</td>\n",
       "      <td>25922.000000</td>\n",
       "      <td>99999.000000</td>\n",
       "      <td>99999.000000</td>\n",
       "      <td>99999.000000</td>\n",
       "      <td>99999.000000</td>\n",
       "      <td>99999.000000</td>\n",
       "    </tr>\n",
       "    <tr>\n",
       "      <th>unique</th>\n",
       "      <td>NaN</td>\n",
       "      <td>NaN</td>\n",
       "      <td>NaN</td>\n",
       "      <td>NaN</td>\n",
       "      <td>NaN</td>\n",
       "      <td>1</td>\n",
       "      <td>1</td>\n",
       "      <td>1</td>\n",
       "      <td>1</td>\n",
       "      <td>NaN</td>\n",
       "      <td>...</td>\n",
       "      <td>NaN</td>\n",
       "      <td>NaN</td>\n",
       "      <td>NaN</td>\n",
       "      <td>NaN</td>\n",
       "      <td>NaN</td>\n",
       "      <td>NaN</td>\n",
       "      <td>NaN</td>\n",
       "      <td>NaN</td>\n",
       "      <td>NaN</td>\n",
       "      <td>NaN</td>\n",
       "    </tr>\n",
       "    <tr>\n",
       "      <th>top</th>\n",
       "      <td>NaN</td>\n",
       "      <td>NaN</td>\n",
       "      <td>NaN</td>\n",
       "      <td>NaN</td>\n",
       "      <td>NaN</td>\n",
       "      <td>6/30/2014</td>\n",
       "      <td>7/31/2014</td>\n",
       "      <td>8/31/2014</td>\n",
       "      <td>9/30/2014</td>\n",
       "      <td>NaN</td>\n",
       "      <td>...</td>\n",
       "      <td>NaN</td>\n",
       "      <td>NaN</td>\n",
       "      <td>NaN</td>\n",
       "      <td>NaN</td>\n",
       "      <td>NaN</td>\n",
       "      <td>NaN</td>\n",
       "      <td>NaN</td>\n",
       "      <td>NaN</td>\n",
       "      <td>NaN</td>\n",
       "      <td>NaN</td>\n",
       "    </tr>\n",
       "    <tr>\n",
       "      <th>freq</th>\n",
       "      <td>NaN</td>\n",
       "      <td>NaN</td>\n",
       "      <td>NaN</td>\n",
       "      <td>NaN</td>\n",
       "      <td>NaN</td>\n",
       "      <td>99999</td>\n",
       "      <td>99398</td>\n",
       "      <td>98899</td>\n",
       "      <td>98340</td>\n",
       "      <td>NaN</td>\n",
       "      <td>...</td>\n",
       "      <td>NaN</td>\n",
       "      <td>NaN</td>\n",
       "      <td>NaN</td>\n",
       "      <td>NaN</td>\n",
       "      <td>NaN</td>\n",
       "      <td>NaN</td>\n",
       "      <td>NaN</td>\n",
       "      <td>NaN</td>\n",
       "      <td>NaN</td>\n",
       "      <td>NaN</td>\n",
       "    </tr>\n",
       "    <tr>\n",
       "      <th>mean</th>\n",
       "      <td>7.001207e+09</td>\n",
       "      <td>109.0</td>\n",
       "      <td>0.0</td>\n",
       "      <td>0.0</td>\n",
       "      <td>0.0</td>\n",
       "      <td>NaN</td>\n",
       "      <td>NaN</td>\n",
       "      <td>NaN</td>\n",
       "      <td>NaN</td>\n",
       "      <td>282.987358</td>\n",
       "      <td>...</td>\n",
       "      <td>0.084581</td>\n",
       "      <td>0.914404</td>\n",
       "      <td>0.908764</td>\n",
       "      <td>0.890808</td>\n",
       "      <td>0.860968</td>\n",
       "      <td>1219.854749</td>\n",
       "      <td>68.170248</td>\n",
       "      <td>66.839062</td>\n",
       "      <td>60.021204</td>\n",
       "      <td>3.299373</td>\n",
       "    </tr>\n",
       "    <tr>\n",
       "      <th>std</th>\n",
       "      <td>6.956694e+05</td>\n",
       "      <td>0.0</td>\n",
       "      <td>0.0</td>\n",
       "      <td>0.0</td>\n",
       "      <td>0.0</td>\n",
       "      <td>NaN</td>\n",
       "      <td>NaN</td>\n",
       "      <td>NaN</td>\n",
       "      <td>NaN</td>\n",
       "      <td>328.439770</td>\n",
       "      <td>...</td>\n",
       "      <td>0.650457</td>\n",
       "      <td>0.279772</td>\n",
       "      <td>0.287950</td>\n",
       "      <td>0.311885</td>\n",
       "      <td>0.345987</td>\n",
       "      <td>954.733842</td>\n",
       "      <td>267.580450</td>\n",
       "      <td>271.201856</td>\n",
       "      <td>253.938223</td>\n",
       "      <td>32.408353</td>\n",
       "    </tr>\n",
       "    <tr>\n",
       "      <th>min</th>\n",
       "      <td>7.000000e+09</td>\n",
       "      <td>109.0</td>\n",
       "      <td>0.0</td>\n",
       "      <td>0.0</td>\n",
       "      <td>0.0</td>\n",
       "      <td>NaN</td>\n",
       "      <td>NaN</td>\n",
       "      <td>NaN</td>\n",
       "      <td>NaN</td>\n",
       "      <td>-2258.709000</td>\n",
       "      <td>...</td>\n",
       "      <td>0.000000</td>\n",
       "      <td>0.000000</td>\n",
       "      <td>0.000000</td>\n",
       "      <td>0.000000</td>\n",
       "      <td>0.000000</td>\n",
       "      <td>180.000000</td>\n",
       "      <td>0.000000</td>\n",
       "      <td>0.000000</td>\n",
       "      <td>0.000000</td>\n",
       "      <td>0.000000</td>\n",
       "    </tr>\n",
       "    <tr>\n",
       "      <th>25%</th>\n",
       "      <td>7.000606e+09</td>\n",
       "      <td>109.0</td>\n",
       "      <td>0.0</td>\n",
       "      <td>0.0</td>\n",
       "      <td>0.0</td>\n",
       "      <td>NaN</td>\n",
       "      <td>NaN</td>\n",
       "      <td>NaN</td>\n",
       "      <td>NaN</td>\n",
       "      <td>93.411500</td>\n",
       "      <td>...</td>\n",
       "      <td>0.000000</td>\n",
       "      <td>1.000000</td>\n",
       "      <td>1.000000</td>\n",
       "      <td>1.000000</td>\n",
       "      <td>1.000000</td>\n",
       "      <td>467.000000</td>\n",
       "      <td>0.000000</td>\n",
       "      <td>0.000000</td>\n",
       "      <td>0.000000</td>\n",
       "      <td>0.000000</td>\n",
       "    </tr>\n",
       "    <tr>\n",
       "      <th>50%</th>\n",
       "      <td>7.001205e+09</td>\n",
       "      <td>109.0</td>\n",
       "      <td>0.0</td>\n",
       "      <td>0.0</td>\n",
       "      <td>0.0</td>\n",
       "      <td>NaN</td>\n",
       "      <td>NaN</td>\n",
       "      <td>NaN</td>\n",
       "      <td>NaN</td>\n",
       "      <td>197.704000</td>\n",
       "      <td>...</td>\n",
       "      <td>0.000000</td>\n",
       "      <td>1.000000</td>\n",
       "      <td>1.000000</td>\n",
       "      <td>1.000000</td>\n",
       "      <td>1.000000</td>\n",
       "      <td>863.000000</td>\n",
       "      <td>0.000000</td>\n",
       "      <td>0.000000</td>\n",
       "      <td>0.000000</td>\n",
       "      <td>0.000000</td>\n",
       "    </tr>\n",
       "    <tr>\n",
       "      <th>75%</th>\n",
       "      <td>7.001812e+09</td>\n",
       "      <td>109.0</td>\n",
       "      <td>0.0</td>\n",
       "      <td>0.0</td>\n",
       "      <td>0.0</td>\n",
       "      <td>NaN</td>\n",
       "      <td>NaN</td>\n",
       "      <td>NaN</td>\n",
       "      <td>NaN</td>\n",
       "      <td>371.060000</td>\n",
       "      <td>...</td>\n",
       "      <td>0.000000</td>\n",
       "      <td>1.000000</td>\n",
       "      <td>1.000000</td>\n",
       "      <td>1.000000</td>\n",
       "      <td>1.000000</td>\n",
       "      <td>1807.500000</td>\n",
       "      <td>0.000000</td>\n",
       "      <td>0.000000</td>\n",
       "      <td>0.000000</td>\n",
       "      <td>0.000000</td>\n",
       "    </tr>\n",
       "    <tr>\n",
       "      <th>max</th>\n",
       "      <td>7.002411e+09</td>\n",
       "      <td>109.0</td>\n",
       "      <td>0.0</td>\n",
       "      <td>0.0</td>\n",
       "      <td>0.0</td>\n",
       "      <td>NaN</td>\n",
       "      <td>NaN</td>\n",
       "      <td>NaN</td>\n",
       "      <td>NaN</td>\n",
       "      <td>27731.088000</td>\n",
       "      <td>...</td>\n",
       "      <td>49.000000</td>\n",
       "      <td>1.000000</td>\n",
       "      <td>1.000000</td>\n",
       "      <td>1.000000</td>\n",
       "      <td>1.000000</td>\n",
       "      <td>4337.000000</td>\n",
       "      <td>12916.220000</td>\n",
       "      <td>9165.600000</td>\n",
       "      <td>11166.210000</td>\n",
       "      <td>2618.570000</td>\n",
       "    </tr>\n",
       "  </tbody>\n",
       "</table>\n",
       "<p>11 rows × 226 columns</p>\n",
       "</div>"
      ],
      "text/plain": [
       "        mobile_number  circle_id  loc_og_t2o_mou  std_og_t2o_mou  \\\n",
       "count    9.999900e+04    99999.0         98981.0         98981.0   \n",
       "unique            NaN        NaN             NaN             NaN   \n",
       "top               NaN        NaN             NaN             NaN   \n",
       "freq              NaN        NaN             NaN             NaN   \n",
       "mean     7.001207e+09      109.0             0.0             0.0   \n",
       "std      6.956694e+05        0.0             0.0             0.0   \n",
       "min      7.000000e+09      109.0             0.0             0.0   \n",
       "25%      7.000606e+09      109.0             0.0             0.0   \n",
       "50%      7.001205e+09      109.0             0.0             0.0   \n",
       "75%      7.001812e+09      109.0             0.0             0.0   \n",
       "max      7.002411e+09      109.0             0.0             0.0   \n",
       "\n",
       "        loc_ic_t2o_mou last_date_of_month_6 last_date_of_month_7  \\\n",
       "count          98981.0                99999                99398   \n",
       "unique             NaN                    1                    1   \n",
       "top                NaN            6/30/2014            7/31/2014   \n",
       "freq               NaN                99999                99398   \n",
       "mean               0.0                  NaN                  NaN   \n",
       "std                0.0                  NaN                  NaN   \n",
       "min                0.0                  NaN                  NaN   \n",
       "25%                0.0                  NaN                  NaN   \n",
       "50%                0.0                  NaN                  NaN   \n",
       "75%                0.0                  NaN                  NaN   \n",
       "max                0.0                  NaN                  NaN   \n",
       "\n",
       "       last_date_of_month_8 last_date_of_month_9        arpu_6  ...  \\\n",
       "count                 98899                98340  99999.000000  ...   \n",
       "unique                    1                    1           NaN  ...   \n",
       "top               8/31/2014            9/30/2014           NaN  ...   \n",
       "freq                  98899                98340           NaN  ...   \n",
       "mean                    NaN                  NaN    282.987358  ...   \n",
       "std                     NaN                  NaN    328.439770  ...   \n",
       "min                     NaN                  NaN  -2258.709000  ...   \n",
       "25%                     NaN                  NaN     93.411500  ...   \n",
       "50%                     NaN                  NaN    197.704000  ...   \n",
       "75%                     NaN                  NaN    371.060000  ...   \n",
       "max                     NaN                  NaN  27731.088000  ...   \n",
       "\n",
       "         sachet_3g_9     fb_user_6     fb_user_7     fb_user_8     fb_user_9  \\\n",
       "count   99999.000000  25153.000000  25571.000000  26339.000000  25922.000000   \n",
       "unique           NaN           NaN           NaN           NaN           NaN   \n",
       "top              NaN           NaN           NaN           NaN           NaN   \n",
       "freq             NaN           NaN           NaN           NaN           NaN   \n",
       "mean        0.084581      0.914404      0.908764      0.890808      0.860968   \n",
       "std         0.650457      0.279772      0.287950      0.311885      0.345987   \n",
       "min         0.000000      0.000000      0.000000      0.000000      0.000000   \n",
       "25%         0.000000      1.000000      1.000000      1.000000      1.000000   \n",
       "50%         0.000000      1.000000      1.000000      1.000000      1.000000   \n",
       "75%         0.000000      1.000000      1.000000      1.000000      1.000000   \n",
       "max        49.000000      1.000000      1.000000      1.000000      1.000000   \n",
       "\n",
       "                 aon    aug_vbc_3g    jul_vbc_3g    jun_vbc_3g    sep_vbc_3g  \n",
       "count   99999.000000  99999.000000  99999.000000  99999.000000  99999.000000  \n",
       "unique           NaN           NaN           NaN           NaN           NaN  \n",
       "top              NaN           NaN           NaN           NaN           NaN  \n",
       "freq             NaN           NaN           NaN           NaN           NaN  \n",
       "mean     1219.854749     68.170248     66.839062     60.021204      3.299373  \n",
       "std       954.733842    267.580450    271.201856    253.938223     32.408353  \n",
       "min       180.000000      0.000000      0.000000      0.000000      0.000000  \n",
       "25%       467.000000      0.000000      0.000000      0.000000      0.000000  \n",
       "50%       863.000000      0.000000      0.000000      0.000000      0.000000  \n",
       "75%      1807.500000      0.000000      0.000000      0.000000      0.000000  \n",
       "max      4337.000000  12916.220000   9165.600000  11166.210000   2618.570000  \n",
       "\n",
       "[11 rows x 226 columns]"
      ]
     },
     "execution_count": 13,
     "metadata": {},
     "output_type": "execute_result"
    }
   ],
   "source": [
    "# look at data statistics\n",
    "data.describe(include='all')"
   ]
  },
  {
   "cell_type": "code",
   "execution_count": 14,
   "id": "8452271a",
   "metadata": {},
   "outputs": [],
   "source": [
    "initial_column_list = list(data.columns)\n",
    "\n",
    "id_column_list = ['mobile_number', 'circle_id']\n",
    "\n",
    "date_column_list = ['last_date_of_month_6',\n",
    "                     'last_date_of_month_7',\n",
    "                     'last_date_of_month_8',\n",
    "                     'last_date_of_month_9',\n",
    "                     'date_of_last_rech_6',\n",
    "                     'date_of_last_rech_7',\n",
    "                     'date_of_last_rech_8',\n",
    "                     'date_of_last_rech_9',\n",
    "                     'date_of_last_rech_data_6',\n",
    "                     'date_of_last_rech_data_7',\n",
    "                     'date_of_last_rech_data_8',\n",
    "                     'date_of_last_rech_data_9'\n",
    "                    ]\n",
    "\n",
    "cat_column_list =  ['night_pck_user_6',\n",
    "                     'night_pck_user_7',\n",
    "                     'night_pck_user_8',\n",
    "                     'night_pck_user_9',\n",
    "                     'fb_user_6',\n",
    "                     'fb_user_7',\n",
    "                     'fb_user_8',\n",
    "                     'fb_user_9'\n",
    "                    ]"
   ]
  },
  {
   "cell_type": "markdown",
   "id": "1b006167",
   "metadata": {},
   "source": [
    "### Removing Redundant columns"
   ]
  },
  {
   "cell_type": "code",
   "execution_count": 15,
   "id": "e3a97228",
   "metadata": {},
   "outputs": [
    {
     "data": {
      "text/plain": [
       "(99999, 212)"
      ]
     },
     "execution_count": 15,
     "metadata": {},
     "output_type": "execute_result"
    }
   ],
   "source": [
    "# Removing Date and Id Columns\n",
    "data = data.drop(columns = id_column_list + date_column_list)\n",
    "data.shape"
   ]
  },
  {
   "cell_type": "code",
   "execution_count": 16,
   "id": "7e2b332a",
   "metadata": {
    "scrolled": true
   },
   "outputs": [
    {
     "data": {
      "text/plain": [
       "{'loc_og_t2o_mou': 0.0,\n",
       " 'std_og_t2o_mou': 0.0,\n",
       " 'loc_ic_t2o_mou': 0.0,\n",
       " 'std_og_t2c_mou_6': 0.0,\n",
       " 'std_og_t2c_mou_7': 0.0,\n",
       " 'std_og_t2c_mou_8': 0.0,\n",
       " 'std_og_t2c_mou_9': 0.0,\n",
       " 'std_ic_t2o_mou_6': 0.0,\n",
       " 'std_ic_t2o_mou_7': 0.0,\n",
       " 'std_ic_t2o_mou_8': 0.0,\n",
       " 'std_ic_t2o_mou_9': 0.0}"
      ]
     },
     "execution_count": 16,
     "metadata": {},
     "output_type": "execute_result"
    }
   ],
   "source": [
    "# checking columns with single value in all the columns and the corresponding single value\n",
    "columns_with_single_value = {}\n",
    "for x in data.columns:\n",
    "    if len(data[x].value_counts()) == 1:\n",
    "        columns_with_single_value[x]=list(dict(data[x].value_counts()).keys())[0]\n",
    "columns_with_single_value"
   ]
  },
  {
   "cell_type": "code",
   "execution_count": 17,
   "id": "85cb8a59",
   "metadata": {},
   "outputs": [
    {
     "data": {
      "text/plain": [
       "(99999, 201)"
      ]
     },
     "execution_count": 17,
     "metadata": {},
     "output_type": "execute_result"
    }
   ],
   "source": [
    "data = data.drop(columns = columns_with_single_value.keys())\n",
    "data.shape"
   ]
  },
  {
   "cell_type": "markdown",
   "id": "2cacfe1c",
   "metadata": {},
   "source": [
    "### Handle Missing Values"
   ]
  },
  {
   "cell_type": "code",
   "execution_count": 18,
   "id": "e0646886",
   "metadata": {},
   "outputs": [
    {
     "data": {
      "text/plain": [
       "onnet_mou_6            3937\n",
       "onnet_mou_7            3859\n",
       "onnet_mou_8            5378\n",
       "onnet_mou_9            7745\n",
       "offnet_mou_6           3937\n",
       "offnet_mou_7           3859\n",
       "offnet_mou_8           5378\n",
       "offnet_mou_9           7745\n",
       "roam_ic_mou_6          3937\n",
       "roam_ic_mou_7          3859\n",
       "roam_ic_mou_8          5378\n",
       "roam_ic_mou_9          7745\n",
       "roam_og_mou_6          3937\n",
       "roam_og_mou_7          3859\n",
       "roam_og_mou_8          5378\n",
       "roam_og_mou_9          7745\n",
       "loc_og_t2t_mou_6       3937\n",
       "loc_og_t2t_mou_7       3859\n",
       "loc_og_t2t_mou_8       5378\n",
       "loc_og_t2t_mou_9       7745\n",
       "loc_og_t2m_mou_6       3937\n",
       "loc_og_t2m_mou_7       3859\n",
       "loc_og_t2m_mou_8       5378\n",
       "loc_og_t2m_mou_9       7745\n",
       "loc_og_t2f_mou_6       3937\n",
       "loc_og_t2f_mou_7       3859\n",
       "loc_og_t2f_mou_8       5378\n",
       "loc_og_t2f_mou_9       7745\n",
       "loc_og_t2c_mou_6       3937\n",
       "loc_og_t2c_mou_7       3859\n",
       "loc_og_t2c_mou_8       5378\n",
       "loc_og_t2c_mou_9       7745\n",
       "loc_og_mou_6           3937\n",
       "loc_og_mou_7           3859\n",
       "loc_og_mou_8           5378\n",
       "loc_og_mou_9           7745\n",
       "std_og_t2t_mou_6       3937\n",
       "std_og_t2t_mou_7       3859\n",
       "std_og_t2t_mou_8       5378\n",
       "std_og_t2t_mou_9       7745\n",
       "std_og_t2m_mou_6       3937\n",
       "std_og_t2m_mou_7       3859\n",
       "std_og_t2m_mou_8       5378\n",
       "std_og_t2m_mou_9       7745\n",
       "std_og_t2f_mou_6       3937\n",
       "std_og_t2f_mou_7       3859\n",
       "std_og_t2f_mou_8       5378\n",
       "std_og_t2f_mou_9       7745\n",
       "std_og_mou_6           3937\n",
       "std_og_mou_7           3859\n",
       "std_og_mou_8           5378\n",
       "std_og_mou_9           7745\n",
       "isd_og_mou_6           3937\n",
       "isd_og_mou_7           3859\n",
       "isd_og_mou_8           5378\n",
       "isd_og_mou_9           7745\n",
       "spl_og_mou_6           3937\n",
       "spl_og_mou_7           3859\n",
       "spl_og_mou_8           5378\n",
       "spl_og_mou_9           7745\n",
       "og_others_6            3937\n",
       "og_others_7            3859\n",
       "og_others_8            5378\n",
       "og_others_9            7745\n",
       "loc_ic_t2t_mou_6       3937\n",
       "loc_ic_t2t_mou_7       3859\n",
       "loc_ic_t2t_mou_8       5378\n",
       "loc_ic_t2t_mou_9       7745\n",
       "loc_ic_t2m_mou_6       3937\n",
       "loc_ic_t2m_mou_7       3859\n",
       "loc_ic_t2m_mou_8       5378\n",
       "loc_ic_t2m_mou_9       7745\n",
       "loc_ic_t2f_mou_6       3937\n",
       "loc_ic_t2f_mou_7       3859\n",
       "loc_ic_t2f_mou_8       5378\n",
       "loc_ic_t2f_mou_9       7745\n",
       "loc_ic_mou_6           3937\n",
       "loc_ic_mou_7           3859\n",
       "loc_ic_mou_8           5378\n",
       "loc_ic_mou_9           7745\n",
       "std_ic_t2t_mou_6       3937\n",
       "std_ic_t2t_mou_7       3859\n",
       "std_ic_t2t_mou_8       5378\n",
       "std_ic_t2t_mou_9       7745\n",
       "std_ic_t2m_mou_6       3937\n",
       "std_ic_t2m_mou_7       3859\n",
       "std_ic_t2m_mou_8       5378\n",
       "std_ic_t2m_mou_9       7745\n",
       "std_ic_t2f_mou_6       3937\n",
       "std_ic_t2f_mou_7       3859\n",
       "std_ic_t2f_mou_8       5378\n",
       "std_ic_t2f_mou_9       7745\n",
       "std_ic_mou_6           3937\n",
       "std_ic_mou_7           3859\n",
       "std_ic_mou_8           5378\n",
       "std_ic_mou_9           7745\n",
       "spl_ic_mou_6           3937\n",
       "spl_ic_mou_7           3859\n",
       "spl_ic_mou_8           5378\n",
       "spl_ic_mou_9           7745\n",
       "isd_ic_mou_6           3937\n",
       "isd_ic_mou_7           3859\n",
       "isd_ic_mou_8           5378\n",
       "isd_ic_mou_9           7745\n",
       "ic_others_6            3937\n",
       "ic_others_7            3859\n",
       "ic_others_8            5378\n",
       "ic_others_9            7745\n",
       "total_rech_data_6     74846\n",
       "total_rech_data_7     74428\n",
       "total_rech_data_8     73660\n",
       "total_rech_data_9     74077\n",
       "max_rech_data_6       74846\n",
       "max_rech_data_7       74428\n",
       "max_rech_data_8       73660\n",
       "max_rech_data_9       74077\n",
       "count_rech_2g_6       74846\n",
       "count_rech_2g_7       74428\n",
       "count_rech_2g_8       73660\n",
       "count_rech_2g_9       74077\n",
       "count_rech_3g_6       74846\n",
       "count_rech_3g_7       74428\n",
       "count_rech_3g_8       73660\n",
       "count_rech_3g_9       74077\n",
       "av_rech_amt_data_6    74846\n",
       "av_rech_amt_data_7    74428\n",
       "av_rech_amt_data_8    73660\n",
       "av_rech_amt_data_9    74077\n",
       "arpu_3g_6             74846\n",
       "arpu_3g_7             74428\n",
       "arpu_3g_8             73660\n",
       "arpu_3g_9             74077\n",
       "arpu_2g_6             74846\n",
       "arpu_2g_7             74428\n",
       "arpu_2g_8             73660\n",
       "arpu_2g_9             74077\n",
       "night_pck_user_6      74846\n",
       "night_pck_user_7      74428\n",
       "night_pck_user_8      73660\n",
       "night_pck_user_9      74077\n",
       "fb_user_6             74846\n",
       "fb_user_7             74428\n",
       "fb_user_8             73660\n",
       "fb_user_9             74077\n",
       "dtype: int64"
      ]
     },
     "execution_count": 18,
     "metadata": {},
     "output_type": "execute_result"
    }
   ],
   "source": [
    "# print list of missing columns \n",
    "data.isna().sum()[(data.isna().sum()/len(data.index))*100 > 0]"
   ]
  },
  {
   "cell_type": "code",
   "execution_count": 19,
   "id": "d52bad44",
   "metadata": {},
   "outputs": [
    {
     "data": {
      "text/plain": [
       "144"
      ]
     },
     "execution_count": 19,
     "metadata": {},
     "output_type": "execute_result"
    }
   ],
   "source": [
    "na_list = list(dict(data.isna().sum()[(data.isna().sum()/len(data.index))*100 > 0]).keys())\n",
    "len(na_list)"
   ]
  },
  {
   "cell_type": "code",
   "execution_count": 20,
   "id": "782e83da",
   "metadata": {},
   "outputs": [
    {
     "data": {
      "text/plain": [
       "['onnet_mou_6',\n",
       " 'onnet_mou_7',\n",
       " 'onnet_mou_8',\n",
       " 'onnet_mou_9',\n",
       " 'offnet_mou_6',\n",
       " 'offnet_mou_7',\n",
       " 'offnet_mou_8',\n",
       " 'offnet_mou_9',\n",
       " 'roam_ic_mou_6',\n",
       " 'roam_ic_mou_7',\n",
       " 'roam_ic_mou_8',\n",
       " 'roam_ic_mou_9',\n",
       " 'roam_og_mou_6',\n",
       " 'roam_og_mou_7',\n",
       " 'roam_og_mou_8',\n",
       " 'roam_og_mou_9',\n",
       " 'loc_og_t2t_mou_6',\n",
       " 'loc_og_t2t_mou_7',\n",
       " 'loc_og_t2t_mou_8',\n",
       " 'loc_og_t2t_mou_9',\n",
       " 'loc_og_t2m_mou_6',\n",
       " 'loc_og_t2m_mou_7',\n",
       " 'loc_og_t2m_mou_8',\n",
       " 'loc_og_t2m_mou_9',\n",
       " 'loc_og_t2f_mou_6',\n",
       " 'loc_og_t2f_mou_7',\n",
       " 'loc_og_t2f_mou_8',\n",
       " 'loc_og_t2f_mou_9',\n",
       " 'loc_og_t2c_mou_6',\n",
       " 'loc_og_t2c_mou_7',\n",
       " 'loc_og_t2c_mou_8',\n",
       " 'loc_og_t2c_mou_9',\n",
       " 'loc_og_mou_6',\n",
       " 'loc_og_mou_7',\n",
       " 'loc_og_mou_8',\n",
       " 'loc_og_mou_9',\n",
       " 'std_og_t2t_mou_6',\n",
       " 'std_og_t2t_mou_7',\n",
       " 'std_og_t2t_mou_8',\n",
       " 'std_og_t2t_mou_9',\n",
       " 'std_og_t2m_mou_6',\n",
       " 'std_og_t2m_mou_7',\n",
       " 'std_og_t2m_mou_8',\n",
       " 'std_og_t2m_mou_9',\n",
       " 'std_og_t2f_mou_6',\n",
       " 'std_og_t2f_mou_7',\n",
       " 'std_og_t2f_mou_8',\n",
       " 'std_og_t2f_mou_9',\n",
       " 'std_og_mou_6',\n",
       " 'std_og_mou_7',\n",
       " 'std_og_mou_8',\n",
       " 'std_og_mou_9',\n",
       " 'isd_og_mou_6',\n",
       " 'isd_og_mou_7',\n",
       " 'isd_og_mou_8',\n",
       " 'isd_og_mou_9',\n",
       " 'spl_og_mou_6',\n",
       " 'spl_og_mou_7',\n",
       " 'spl_og_mou_8',\n",
       " 'spl_og_mou_9',\n",
       " 'og_others_6',\n",
       " 'og_others_7',\n",
       " 'og_others_8',\n",
       " 'og_others_9',\n",
       " 'loc_ic_t2t_mou_6',\n",
       " 'loc_ic_t2t_mou_7',\n",
       " 'loc_ic_t2t_mou_8',\n",
       " 'loc_ic_t2t_mou_9',\n",
       " 'loc_ic_t2m_mou_6',\n",
       " 'loc_ic_t2m_mou_7',\n",
       " 'loc_ic_t2m_mou_8',\n",
       " 'loc_ic_t2m_mou_9',\n",
       " 'loc_ic_t2f_mou_6',\n",
       " 'loc_ic_t2f_mou_7',\n",
       " 'loc_ic_t2f_mou_8',\n",
       " 'loc_ic_t2f_mou_9',\n",
       " 'loc_ic_mou_6',\n",
       " 'loc_ic_mou_7',\n",
       " 'loc_ic_mou_8',\n",
       " 'loc_ic_mou_9',\n",
       " 'std_ic_t2t_mou_6',\n",
       " 'std_ic_t2t_mou_7',\n",
       " 'std_ic_t2t_mou_8',\n",
       " 'std_ic_t2t_mou_9',\n",
       " 'std_ic_t2m_mou_6',\n",
       " 'std_ic_t2m_mou_7',\n",
       " 'std_ic_t2m_mou_8',\n",
       " 'std_ic_t2m_mou_9',\n",
       " 'std_ic_t2f_mou_6',\n",
       " 'std_ic_t2f_mou_7',\n",
       " 'std_ic_t2f_mou_8',\n",
       " 'std_ic_t2f_mou_9',\n",
       " 'std_ic_mou_6',\n",
       " 'std_ic_mou_7',\n",
       " 'std_ic_mou_8',\n",
       " 'std_ic_mou_9',\n",
       " 'spl_ic_mou_6',\n",
       " 'spl_ic_mou_7',\n",
       " 'spl_ic_mou_8',\n",
       " 'spl_ic_mou_9',\n",
       " 'isd_ic_mou_6',\n",
       " 'isd_ic_mou_7',\n",
       " 'isd_ic_mou_8',\n",
       " 'isd_ic_mou_9',\n",
       " 'ic_others_6',\n",
       " 'ic_others_7',\n",
       " 'ic_others_8',\n",
       " 'ic_others_9',\n",
       " 'total_rech_data_6',\n",
       " 'total_rech_data_7',\n",
       " 'total_rech_data_8',\n",
       " 'total_rech_data_9',\n",
       " 'max_rech_data_6',\n",
       " 'max_rech_data_7',\n",
       " 'max_rech_data_8',\n",
       " 'max_rech_data_9',\n",
       " 'count_rech_2g_6',\n",
       " 'count_rech_2g_7',\n",
       " 'count_rech_2g_8',\n",
       " 'count_rech_2g_9',\n",
       " 'count_rech_3g_6',\n",
       " 'count_rech_3g_7',\n",
       " 'count_rech_3g_8',\n",
       " 'count_rech_3g_9',\n",
       " 'av_rech_amt_data_6',\n",
       " 'av_rech_amt_data_7',\n",
       " 'av_rech_amt_data_8',\n",
       " 'av_rech_amt_data_9',\n",
       " 'arpu_3g_6',\n",
       " 'arpu_3g_7',\n",
       " 'arpu_3g_8',\n",
       " 'arpu_3g_9',\n",
       " 'arpu_2g_6',\n",
       " 'arpu_2g_7',\n",
       " 'arpu_2g_8',\n",
       " 'arpu_2g_9']"
      ]
     },
     "execution_count": 20,
     "metadata": {},
     "output_type": "execute_result"
    }
   ],
   "source": [
    "zero_impute_list = [x for x in na_list if x not in date_column_list and x not in cat_column_list]\n",
    "zero_impute_list"
   ]
  },
  {
   "cell_type": "markdown",
   "id": "e0ad48b6",
   "metadata": {},
   "source": [
    "As we can see from above all the colummns in the zero_impute_list are either counts, rechaege, mou or data<br>\n",
    "NaN in the above columns means that there is no count or no recharge done<br>\n",
    "so we can impute 0 in all the above columns"
   ]
  },
  {
   "cell_type": "code",
   "execution_count": 21,
   "id": "a2918628",
   "metadata": {},
   "outputs": [],
   "source": [
    "# imputing with 0 for recharge, cont, mou, data columns\n",
    "data[zero_impute_list] = data[zero_impute_list].fillna(0)"
   ]
  },
  {
   "cell_type": "code",
   "execution_count": 22,
   "id": "d767fc9f",
   "metadata": {},
   "outputs": [
    {
     "data": {
      "text/plain": [
       "night_pck_user_6    74846\n",
       "night_pck_user_7    74428\n",
       "night_pck_user_8    73660\n",
       "night_pck_user_9    74077\n",
       "fb_user_6           74846\n",
       "fb_user_7           74428\n",
       "fb_user_8           73660\n",
       "fb_user_9           74077\n",
       "dtype: int64"
      ]
     },
     "execution_count": 22,
     "metadata": {},
     "output_type": "execute_result"
    }
   ],
   "source": [
    "# print list of missing columns \n",
    "data.isna().sum()[(data.isna().sum()/len(data.index))*100 > 0]"
   ]
  },
  {
   "cell_type": "markdown",
   "id": "5a282c76",
   "metadata": {},
   "source": [
    "Removed all the missing values from the data\n",
    "### Handling Data Types"
   ]
  },
  {
   "cell_type": "code",
   "execution_count": 23,
   "id": "b7ca27b7",
   "metadata": {},
   "outputs": [],
   "source": [
    "# Handling categorical columns (filling -1 in place of na)\n",
    "data[cat_column_list] = data[cat_column_list].fillna(-1)"
   ]
  },
  {
   "cell_type": "code",
   "execution_count": 24,
   "id": "aa972e94",
   "metadata": {
    "scrolled": true
   },
   "outputs": [
    {
     "data": {
      "text/plain": [
       "Series([], dtype: float64)"
      ]
     },
     "execution_count": 24,
     "metadata": {},
     "output_type": "execute_result"
    }
   ],
   "source": [
    "data.isna().sum()[(data.isna().sum()/len(data.index))*100 > 0]/len(data.isna())"
   ]
  },
  {
   "cell_type": "code",
   "execution_count": 25,
   "id": "fa2451ec",
   "metadata": {},
   "outputs": [
    {
     "name": "stdout",
     "output_type": "stream",
     "text": [
      "<class 'pandas.core.frame.DataFrame'>\n",
      "RangeIndex: 99999 entries, 0 to 99998\n",
      "Columns: 201 entries, arpu_6 to sep_vbc_3g\n",
      "dtypes: category(8), float64(160), int64(33)\n",
      "memory usage: 148.0 MB\n"
     ]
    }
   ],
   "source": [
    "cat_column_list_2 = [x for x in cat_column_list if x in data.columns]\n",
    "data[cat_column_list_2] = data[cat_column_list_2].apply(lambda column: column.astype(\"category\"), axis=0)\n",
    "data.info()"
   ]
  },
  {
   "cell_type": "markdown",
   "id": "f5f30eb3",
   "metadata": {},
   "source": [
    "### Creating Target Variable"
   ]
  },
  {
   "cell_type": "code",
   "execution_count": 26,
   "id": "74e5c0a9",
   "metadata": {},
   "outputs": [],
   "source": [
    "# usage based column creating\n",
    "\n",
    "data[\"usage_mou_6\"] = data.total_og_mou_6 + data.total_ic_mou_6\n",
    "data[\"usage_mou_7\"] = data.total_og_mou_7 + data.total_ic_mou_7\n",
    "data[\"usage_mou_8\"] = data.total_og_mou_8 + data.total_ic_mou_8\n",
    "data[\"usage_mou_9\"] = data.total_og_mou_9 + data.total_ic_mou_9\n",
    "\n",
    "data[\"usage_data_6\"] = data.monthly_3g_6 + data.monthly_2g_6\n",
    "data[\"usage_data_7\"] = data.monthly_3g_7 + data.monthly_2g_7\n",
    "data[\"usage_data_8\"] = data.monthly_3g_8 + data.monthly_2g_8\n",
    "data[\"usage_data_9\"] = data.monthly_3g_9 + data.monthly_2g_9\n",
    "\n",
    "data[\"usage_6\"] = data.usage_data_6 + data.usage_mou_6\n",
    "data[\"usage_7\"] = data.usage_data_7 + data.usage_mou_7\n",
    "data[\"usage_8\"] = data.usage_data_8 + data.usage_mou_8\n",
    "data[\"usage_9\"] = data.usage_data_9 + data.usage_mou_9"
   ]
  },
  {
   "cell_type": "code",
   "execution_count": 27,
   "id": "b3e1cf17",
   "metadata": {},
   "outputs": [],
   "source": [
    "# Creating Columns That show the difference betweenthe 8th month and the average of values of the 6th and 7th month\n",
    "\n",
    "data['arpu_diff'] = data.arpu_8 - ((data.arpu_6 + data.arpu_7)/2)\n",
    "data['onnet_mou_diff'] = data.onnet_mou_8 - ((data.onnet_mou_6 + data.onnet_mou_7)/2)\n",
    "data['offnet_mou_diff'] = data.offnet_mou_8 - ((data.offnet_mou_6 + data.offnet_mou_7)/2)\n",
    "data['roam_ic_mou_diff'] = data.roam_ic_mou_8 - ((data.roam_ic_mou_6 + data.roam_ic_mou_7)/2)\n",
    "data['roam_og_mou_diff'] = data.roam_og_mou_8 - ((data.roam_og_mou_6 + data.roam_og_mou_7)/2)\n",
    "data['loc_og_mou_diff'] = data.loc_og_mou_8 - ((data.loc_og_mou_6 + data.loc_og_mou_7)/2)\n",
    "data['std_og_mou_diff'] = data.std_og_mou_8 - ((data.std_og_mou_6 + data.std_og_mou_7)/2)\n",
    "data['isd_og_mou_diff'] = data.isd_og_mou_8 - ((data.isd_og_mou_6 + data.isd_og_mou_7)/2)\n",
    "data['spl_og_mou_diff'] = data.spl_og_mou_8 - ((data.spl_og_mou_6 + data.spl_og_mou_7)/2)\n",
    "data['total_og_mou_diff'] = data.total_og_mou_8 - ((data.total_og_mou_6 + data.total_og_mou_7)/2)\n",
    "data['loc_ic_mou_diff'] = data.loc_ic_mou_8 - ((data.loc_ic_mou_6 + data.loc_ic_mou_7)/2)\n",
    "data['std_ic_mou_diff'] = data.std_ic_mou_8 - ((data.std_ic_mou_6 + data.std_ic_mou_7)/2)\n",
    "data['isd_ic_mou_diff'] = data.isd_ic_mou_8 - ((data.isd_ic_mou_6 + data.isd_ic_mou_7)/2)\n",
    "data['spl_ic_mou_diff'] = data.spl_ic_mou_8 - ((data.spl_ic_mou_6 + data.spl_ic_mou_7)/2)\n",
    "data['total_ic_mou_diff'] = data.total_ic_mou_8 - ((data.total_ic_mou_6 + data.total_ic_mou_7)/2)\n",
    "data['total_rech_num_diff'] = data.total_rech_num_8 - ((data.total_rech_num_6 + data.total_rech_num_7)/2)\n",
    "data['total_rech_amt_diff'] = data.total_rech_amt_8 - ((data.total_rech_amt_6 + data.total_rech_amt_7)/2)\n",
    "data['max_rech_amt_diff'] = data.max_rech_amt_8 - ((data.max_rech_amt_6 + data.max_rech_amt_7)/2)\n",
    "data['total_rech_data_diff'] = data.total_rech_data_8 - ((data.total_rech_data_6 + data.total_rech_data_7)/2)\n",
    "data['max_rech_data_diff'] = data.max_rech_data_8 - ((data.max_rech_data_6 + data.max_rech_data_7)/2)\n",
    "data['av_rech_amt_data_diff'] = data.av_rech_amt_data_8 - ((data.av_rech_amt_data_6 + data.av_rech_amt_data_7)/2)\n",
    "data['vol_2g_mb_diff'] = data.vol_2g_mb_8 - ((data.vol_2g_mb_6 + data.vol_2g_mb_7)/2)\n",
    "data['vol_3g_mb_diff'] = data.vol_3g_mb_8 - ((data.vol_3g_mb_6 + data.vol_3g_mb_7)/2)"
   ]
  },
  {
   "cell_type": "code",
   "execution_count": 28,
   "id": "a0a9e569",
   "metadata": {},
   "outputs": [
    {
     "data": {
      "text/plain": [
       "(10396, 236)"
      ]
     },
     "execution_count": 28,
     "metadata": {},
     "output_type": "execute_result"
    }
   ],
   "source": [
    "# checking the shape of column upon which we derived target variable\n",
    "data[data[\"usage_9\"] == 0.0].shape"
   ]
  },
  {
   "cell_type": "code",
   "execution_count": 29,
   "id": "5ebc09d1",
   "metadata": {},
   "outputs": [],
   "source": [
    "# creating churn column based on 9th month data\n",
    "\n",
    "data[\"churn\"] = data[\"usage_9\"].apply(lambda x: 1 if x == 0.0 else 0)"
   ]
  },
  {
   "cell_type": "code",
   "execution_count": 30,
   "id": "56e1ae89",
   "metadata": {},
   "outputs": [
    {
     "data": {
      "text/plain": [
       "0    89603\n",
       "1    10396\n",
       "Name: churn, dtype: int64"
      ]
     },
     "execution_count": 30,
     "metadata": {},
     "output_type": "execute_result"
    }
   ],
   "source": [
    "# checking out churn counts\n",
    "data.churn.value_counts()"
   ]
  },
  {
   "cell_type": "markdown",
   "id": "00b0cbdf",
   "metadata": {},
   "source": [
    "### Removing 9th month columns"
   ]
  },
  {
   "cell_type": "code",
   "execution_count": 31,
   "id": "c0d21b99",
   "metadata": {},
   "outputs": [],
   "source": [
    "# detecting all columns with _9 in their name\n",
    "september_columns = [x for x in data.columns if x.endswith(\"_9\")]\n",
    "# september_columns"
   ]
  },
  {
   "cell_type": "code",
   "execution_count": 32,
   "id": "d7a185db",
   "metadata": {},
   "outputs": [],
   "source": [
    "cat_column_list_3 = [x for x in cat_column_list_2 if x not in september_columns]"
   ]
  },
  {
   "cell_type": "code",
   "execution_count": 33,
   "id": "9e06574f",
   "metadata": {},
   "outputs": [
    {
     "data": {
      "text/plain": [
       "(99999, 185)"
      ]
     },
     "execution_count": 33,
     "metadata": {},
     "output_type": "execute_result"
    }
   ],
   "source": [
    "# dropping september columns from data\n",
    "data = data.drop(columns=september_columns)\n",
    "data.shape"
   ]
  },
  {
   "cell_type": "markdown",
   "id": "8f1efe4f",
   "metadata": {},
   "source": [
    "### Percentage of churn"
   ]
  },
  {
   "cell_type": "code",
   "execution_count": 34,
   "id": "0142a1df",
   "metadata": {
    "scrolled": true
   },
   "outputs": [
    {
     "data": {
      "text/plain": [
       "0    89.603896\n",
       "1    10.396104\n",
       "Name: churn, dtype: float64"
      ]
     },
     "execution_count": 34,
     "metadata": {},
     "output_type": "execute_result"
    }
   ],
   "source": [
    "# getting percentage of customers with churn\n",
    "\n",
    "(data.churn.value_counts()/len(data.churn))*100"
   ]
  },
  {
   "cell_type": "markdown",
   "id": "f2ee48c8",
   "metadata": {},
   "source": [
    "there is approximately <b>10.40%</b> of churn"
   ]
  },
  {
   "cell_type": "markdown",
   "id": "ec2abcc2",
   "metadata": {},
   "source": [
    "### Filtering High Value Customers"
   ]
  },
  {
   "cell_type": "code",
   "execution_count": 35,
   "id": "161fda6d",
   "metadata": {},
   "outputs": [],
   "source": [
    "# creating total revenue for the customer for each month\n",
    "\n",
    "data[\"total_value_6\"] = (data.av_rech_amt_data_6 * data.total_rech_data_6) + data.total_rech_amt_6\n",
    "data[\"total_value_7\"] = (data.av_rech_amt_data_7 * data.total_rech_data_7) + data.total_rech_amt_7\n",
    "data[\"total_value_8\"] = (data.av_rech_amt_data_8 * data.total_rech_data_7) + data.total_rech_amt_8"
   ]
  },
  {
   "cell_type": "code",
   "execution_count": 36,
   "id": "34ab2ef5",
   "metadata": {},
   "outputs": [
    {
     "data": {
      "text/plain": [
       "478.0"
      ]
     },
     "execution_count": 36,
     "metadata": {},
     "output_type": "execute_result"
    }
   ],
   "source": [
    "# getting the 70th percentile value according to the criterioin given\n",
    "\n",
    "percentile_value_70 = np.percentile((data[\"total_value_6\"] + data[\"total_value_7\"])/2, 70)\n",
    "percentile_value_70"
   ]
  },
  {
   "cell_type": "code",
   "execution_count": 37,
   "id": "5a454b82",
   "metadata": {},
   "outputs": [
    {
     "data": {
      "text/plain": [
       "(29953, 188)"
      ]
     },
     "execution_count": 37,
     "metadata": {},
     "output_type": "execute_result"
    }
   ],
   "source": [
    "# filtering high value customers\n",
    "\n",
    "hvc = data[(data[\"total_value_6\"] + data[\"total_value_7\"])/2 > percentile_value_70]\n",
    "hvc.shape"
   ]
  },
  {
   "cell_type": "markdown",
   "id": "ac580bb1",
   "metadata": {},
   "source": [
    "There are 29953 high value customers according to the criteria determined"
   ]
  },
  {
   "cell_type": "code",
   "execution_count": 38,
   "id": "356689db",
   "metadata": {},
   "outputs": [
    {
     "data": {
      "text/plain": [
       "0    91.546757\n",
       "1     8.453243\n",
       "Name: churn, dtype: float64"
      ]
     },
     "execution_count": 38,
     "metadata": {},
     "output_type": "execute_result"
    }
   ],
   "source": [
    "# getting percentage of customers with churn\n",
    "\n",
    "(hvc.churn.value_counts()/len(hvc.churn))*100"
   ]
  },
  {
   "cell_type": "markdown",
   "id": "7b2cd0c5",
   "metadata": {},
   "source": [
    "There is <b>8.5%</b> churn in high value customers"
   ]
  },
  {
   "cell_type": "code",
   "execution_count": 39,
   "id": "7722db03",
   "metadata": {},
   "outputs": [
    {
     "data": {
      "text/plain": [
       "['arpu_6',\n",
       " 'arpu_7',\n",
       " 'arpu_8',\n",
       " 'onnet_mou_6',\n",
       " 'onnet_mou_7',\n",
       " 'onnet_mou_8',\n",
       " 'offnet_mou_6',\n",
       " 'offnet_mou_7',\n",
       " 'offnet_mou_8',\n",
       " 'roam_ic_mou_6',\n",
       " 'roam_ic_mou_7',\n",
       " 'roam_ic_mou_8',\n",
       " 'roam_og_mou_6',\n",
       " 'roam_og_mou_7',\n",
       " 'roam_og_mou_8',\n",
       " 'loc_og_t2t_mou_6',\n",
       " 'loc_og_t2t_mou_7',\n",
       " 'loc_og_t2t_mou_8',\n",
       " 'loc_og_t2m_mou_6',\n",
       " 'loc_og_t2m_mou_7',\n",
       " 'loc_og_t2m_mou_8',\n",
       " 'loc_og_t2f_mou_6',\n",
       " 'loc_og_t2f_mou_7',\n",
       " 'loc_og_t2f_mou_8',\n",
       " 'loc_og_t2c_mou_6',\n",
       " 'loc_og_t2c_mou_7',\n",
       " 'loc_og_t2c_mou_8',\n",
       " 'loc_og_mou_6',\n",
       " 'loc_og_mou_7',\n",
       " 'loc_og_mou_8',\n",
       " 'std_og_t2t_mou_6',\n",
       " 'std_og_t2t_mou_7',\n",
       " 'std_og_t2t_mou_8',\n",
       " 'std_og_t2m_mou_6',\n",
       " 'std_og_t2m_mou_7',\n",
       " 'std_og_t2m_mou_8',\n",
       " 'std_og_t2f_mou_6',\n",
       " 'std_og_t2f_mou_7',\n",
       " 'std_og_t2f_mou_8',\n",
       " 'std_og_mou_6',\n",
       " 'std_og_mou_7',\n",
       " 'std_og_mou_8',\n",
       " 'isd_og_mou_6',\n",
       " 'isd_og_mou_7',\n",
       " 'isd_og_mou_8',\n",
       " 'spl_og_mou_6',\n",
       " 'spl_og_mou_7',\n",
       " 'spl_og_mou_8',\n",
       " 'og_others_6',\n",
       " 'og_others_7',\n",
       " 'og_others_8',\n",
       " 'total_og_mou_6',\n",
       " 'total_og_mou_7',\n",
       " 'total_og_mou_8',\n",
       " 'loc_ic_t2t_mou_6',\n",
       " 'loc_ic_t2t_mou_7',\n",
       " 'loc_ic_t2t_mou_8',\n",
       " 'loc_ic_t2m_mou_6',\n",
       " 'loc_ic_t2m_mou_7',\n",
       " 'loc_ic_t2m_mou_8',\n",
       " 'loc_ic_t2f_mou_6',\n",
       " 'loc_ic_t2f_mou_7',\n",
       " 'loc_ic_t2f_mou_8',\n",
       " 'loc_ic_mou_6',\n",
       " 'loc_ic_mou_7',\n",
       " 'loc_ic_mou_8',\n",
       " 'std_ic_t2t_mou_6',\n",
       " 'std_ic_t2t_mou_7',\n",
       " 'std_ic_t2t_mou_8',\n",
       " 'std_ic_t2m_mou_6',\n",
       " 'std_ic_t2m_mou_7',\n",
       " 'std_ic_t2m_mou_8',\n",
       " 'std_ic_t2f_mou_6',\n",
       " 'std_ic_t2f_mou_7',\n",
       " 'std_ic_t2f_mou_8',\n",
       " 'std_ic_mou_6',\n",
       " 'std_ic_mou_7',\n",
       " 'std_ic_mou_8',\n",
       " 'total_ic_mou_6',\n",
       " 'total_ic_mou_7',\n",
       " 'total_ic_mou_8',\n",
       " 'spl_ic_mou_6',\n",
       " 'spl_ic_mou_7',\n",
       " 'spl_ic_mou_8',\n",
       " 'isd_ic_mou_6',\n",
       " 'isd_ic_mou_7',\n",
       " 'isd_ic_mou_8',\n",
       " 'ic_others_6',\n",
       " 'ic_others_7',\n",
       " 'ic_others_8',\n",
       " 'total_rech_num_6',\n",
       " 'total_rech_num_7',\n",
       " 'total_rech_num_8',\n",
       " 'total_rech_amt_6',\n",
       " 'total_rech_amt_7',\n",
       " 'total_rech_amt_8',\n",
       " 'max_rech_amt_6',\n",
       " 'max_rech_amt_7',\n",
       " 'max_rech_amt_8',\n",
       " 'last_day_rch_amt_6',\n",
       " 'last_day_rch_amt_7',\n",
       " 'last_day_rch_amt_8',\n",
       " 'total_rech_data_6',\n",
       " 'total_rech_data_7',\n",
       " 'total_rech_data_8',\n",
       " 'max_rech_data_6',\n",
       " 'max_rech_data_7',\n",
       " 'max_rech_data_8',\n",
       " 'count_rech_2g_6',\n",
       " 'count_rech_2g_7',\n",
       " 'count_rech_2g_8',\n",
       " 'count_rech_3g_6',\n",
       " 'count_rech_3g_7',\n",
       " 'count_rech_3g_8',\n",
       " 'av_rech_amt_data_6',\n",
       " 'av_rech_amt_data_7',\n",
       " 'av_rech_amt_data_8',\n",
       " 'vol_2g_mb_6',\n",
       " 'vol_2g_mb_7',\n",
       " 'vol_2g_mb_8',\n",
       " 'vol_3g_mb_6',\n",
       " 'vol_3g_mb_7',\n",
       " 'vol_3g_mb_8',\n",
       " 'arpu_3g_6',\n",
       " 'arpu_3g_7',\n",
       " 'arpu_3g_8',\n",
       " 'arpu_2g_6',\n",
       " 'arpu_2g_7',\n",
       " 'arpu_2g_8',\n",
       " 'night_pck_user_6',\n",
       " 'night_pck_user_7',\n",
       " 'night_pck_user_8',\n",
       " 'monthly_2g_6',\n",
       " 'monthly_2g_7',\n",
       " 'monthly_2g_8',\n",
       " 'sachet_2g_6',\n",
       " 'sachet_2g_7',\n",
       " 'sachet_2g_8',\n",
       " 'monthly_3g_6',\n",
       " 'monthly_3g_7',\n",
       " 'monthly_3g_8',\n",
       " 'sachet_3g_6',\n",
       " 'sachet_3g_7',\n",
       " 'sachet_3g_8',\n",
       " 'fb_user_6',\n",
       " 'fb_user_7',\n",
       " 'fb_user_8',\n",
       " 'aon',\n",
       " 'aug_vbc_3g',\n",
       " 'jul_vbc_3g',\n",
       " 'jun_vbc_3g',\n",
       " 'sep_vbc_3g',\n",
       " 'usage_mou_6',\n",
       " 'usage_mou_7',\n",
       " 'usage_mou_8',\n",
       " 'usage_data_6',\n",
       " 'usage_data_7',\n",
       " 'usage_data_8',\n",
       " 'usage_6',\n",
       " 'usage_7',\n",
       " 'usage_8',\n",
       " 'arpu_diff',\n",
       " 'onnet_mou_diff',\n",
       " 'offnet_mou_diff',\n",
       " 'roam_ic_mou_diff',\n",
       " 'roam_og_mou_diff',\n",
       " 'loc_og_mou_diff',\n",
       " 'std_og_mou_diff',\n",
       " 'isd_og_mou_diff',\n",
       " 'spl_og_mou_diff',\n",
       " 'total_og_mou_diff',\n",
       " 'loc_ic_mou_diff',\n",
       " 'std_ic_mou_diff',\n",
       " 'isd_ic_mou_diff',\n",
       " 'spl_ic_mou_diff',\n",
       " 'total_ic_mou_diff',\n",
       " 'total_rech_num_diff',\n",
       " 'total_rech_amt_diff',\n",
       " 'max_rech_amt_diff',\n",
       " 'total_rech_data_diff',\n",
       " 'max_rech_data_diff',\n",
       " 'av_rech_amt_data_diff',\n",
       " 'vol_2g_mb_diff',\n",
       " 'vol_3g_mb_diff',\n",
       " 'churn',\n",
       " 'total_value_6',\n",
       " 'total_value_7',\n",
       " 'total_value_8']"
      ]
     },
     "execution_count": 39,
     "metadata": {},
     "output_type": "execute_result"
    }
   ],
   "source": [
    "list(hvc.columns)"
   ]
  },
  {
   "cell_type": "markdown",
   "id": "081c4442",
   "metadata": {},
   "source": [
    "### Target Variable Analysis"
   ]
  },
  {
   "cell_type": "code",
   "execution_count": 40,
   "id": "970a1fc7",
   "metadata": {},
   "outputs": [
    {
     "data": {
      "text/plain": [
       "0    27421\n",
       "1     2532\n",
       "Name: churn, dtype: int64"
      ]
     },
     "execution_count": 40,
     "metadata": {},
     "output_type": "execute_result"
    }
   ],
   "source": [
    "# value counts of the churn\n",
    "\n",
    "hvc.churn.value_counts()"
   ]
  },
  {
   "cell_type": "code",
   "execution_count": 41,
   "id": "84938ab3",
   "metadata": {},
   "outputs": [
    {
     "data": {
      "text/plain": [
       "<AxesSubplot:xlabel='churn', ylabel='count'>"
      ]
     },
     "execution_count": 41,
     "metadata": {},
     "output_type": "execute_result"
    },
    {
     "data": {
      "image/png": "[encoded data removed]",
      "text/plain": [
       "<Figure size 432x288 with 1 Axes>"
      ]
     },
     "metadata": {
      "needs_background": "light"
     },
     "output_type": "display_data"
    }
   ],
   "source": [
    "#plot churn\n",
    "\n",
    "sns.countplot(hvc.churn)"
   ]
  },
  {
   "cell_type": "code",
   "execution_count": 42,
   "id": "16a09657",
   "metadata": {
    "scrolled": true
   },
   "outputs": [
    {
     "data": {
      "text/plain": [
       "0    91.546757\n",
       "1     8.453243\n",
       "Name: churn, dtype: float64"
      ]
     },
     "execution_count": 42,
     "metadata": {},
     "output_type": "execute_result"
    }
   ],
   "source": [
    "# percentage of the churn\n",
    "\n",
    "(hvc.churn.value_counts()/len(hvc.churn))*100"
   ]
  },
  {
   "cell_type": "markdown",
   "id": "a2467707",
   "metadata": {},
   "source": [
    "### Removing Outliers\n",
    "Removing the outliers from the data selectively from the above box plots"
   ]
  },
  {
   "cell_type": "code",
   "execution_count": 43,
   "id": "bca34667",
   "metadata": {},
   "outputs": [],
   "source": [
    "num_columns_list = [x for x in hvc.columns if x not in cat_column_list_2]\n",
    "num_columns_list.remove(\"churn\")"
   ]
  },
  {
   "cell_type": "code",
   "execution_count": 44,
   "id": "9aa5606f",
   "metadata": {},
   "outputs": [
    {
     "name": "stdout",
     "output_type": "stream",
     "text": [
      "shape before removing outliers  (29953, 188)\n",
      "shape after removing outliers  (28041, 188)\n"
     ]
    }
   ],
   "source": [
    "from sklearn.neighbors import LocalOutlierFactor\n",
    "\n",
    "print(\"shape before removing outliers \", hvc.shape )\n",
    "\n",
    "lof = LocalOutlierFactor()\n",
    "yhat = lof.fit_predict(hvc[num_columns_list])\n",
    "mask = yhat != -1\n",
    "\n",
    "hvc = hvc[mask]\n",
    "print(\"shape after removing outliers \", hvc.shape )"
   ]
  },
  {
   "cell_type": "markdown",
   "id": "ccd72e73",
   "metadata": {},
   "source": [
    "### Data Preparation"
   ]
  },
  {
   "cell_type": "code",
   "execution_count": 45,
   "id": "98ed90a0",
   "metadata": {},
   "outputs": [],
   "source": [
    "# splitting data into train and test sets\n",
    "# since there is class imbalance we are using stratify option\n",
    "\n",
    "from sklearn.model_selection import train_test_split\n",
    "\n",
    "x_train, x_test, y_train, y_test = train_test_split(hvc.drop(columns=\"churn\"), hvc.churn, train_size=0.75, random_state=42, stratify = hvc.churn)"
   ]
  },
  {
   "cell_type": "code",
   "execution_count": 46,
   "id": "d8c68571",
   "metadata": {},
   "outputs": [
    {
     "data": {
      "text/plain": [
       "0    0.917086\n",
       "1    0.082914\n",
       "Name: churn, dtype: float64"
      ]
     },
     "execution_count": 46,
     "metadata": {},
     "output_type": "execute_result"
    }
   ],
   "source": [
    "hvc.churn.value_counts()/len(hvc)"
   ]
  },
  {
   "cell_type": "code",
   "execution_count": 47,
   "id": "84a8b1b2",
   "metadata": {},
   "outputs": [
    {
     "data": {
      "text/plain": [
       "0    0.917071\n",
       "1    0.082929\n",
       "Name: churn, dtype: float64"
      ]
     },
     "execution_count": 47,
     "metadata": {},
     "output_type": "execute_result"
    }
   ],
   "source": [
    "y_train.value_counts()/len(y_train)"
   ]
  },
  {
   "cell_type": "code",
   "execution_count": 48,
   "id": "4f761c20",
   "metadata": {},
   "outputs": [
    {
     "data": {
      "text/plain": [
       "0    0.91713\n",
       "1    0.08287\n",
       "Name: churn, dtype: float64"
      ]
     },
     "execution_count": 48,
     "metadata": {},
     "output_type": "execute_result"
    }
   ],
   "source": [
    "y_test.value_counts()/len(y_test)"
   ]
  },
  {
   "cell_type": "markdown",
   "id": "d189ae31",
   "metadata": {},
   "source": [
    "### Data Scaling"
   ]
  },
  {
   "cell_type": "code",
   "execution_count": 49,
   "id": "edae4ea3",
   "metadata": {
    "scrolled": true
   },
   "outputs": [
    {
     "data": {
      "text/html": [
       "<div>\n",
       "<style scoped>\n",
       "    .dataframe tbody tr th:only-of-type {\n",
       "        vertical-align: middle;\n",
       "    }\n",
       "\n",
       "    .dataframe tbody tr th {\n",
       "        vertical-align: top;\n",
       "    }\n",
       "\n",
       "    .dataframe thead th {\n",
       "        text-align: right;\n",
       "    }\n",
       "</style>\n",
       "<table border=\"1\" class=\"dataframe\">\n",
       "  <thead>\n",
       "    <tr style=\"text-align: right;\">\n",
       "      <th></th>\n",
       "      <th>arpu_6</th>\n",
       "      <th>arpu_7</th>\n",
       "      <th>arpu_8</th>\n",
       "      <th>onnet_mou_6</th>\n",
       "      <th>onnet_mou_7</th>\n",
       "      <th>onnet_mou_8</th>\n",
       "      <th>offnet_mou_6</th>\n",
       "      <th>offnet_mou_7</th>\n",
       "      <th>offnet_mou_8</th>\n",
       "      <th>roam_ic_mou_6</th>\n",
       "      <th>...</th>\n",
       "      <th>total_rech_amt_diff</th>\n",
       "      <th>max_rech_amt_diff</th>\n",
       "      <th>total_rech_data_diff</th>\n",
       "      <th>max_rech_data_diff</th>\n",
       "      <th>av_rech_amt_data_diff</th>\n",
       "      <th>vol_2g_mb_diff</th>\n",
       "      <th>vol_3g_mb_diff</th>\n",
       "      <th>total_value_6</th>\n",
       "      <th>total_value_7</th>\n",
       "      <th>total_value_8</th>\n",
       "    </tr>\n",
       "  </thead>\n",
       "  <tbody>\n",
       "    <tr>\n",
       "      <th>72122</th>\n",
       "      <td>0.225901</td>\n",
       "      <td>-1.494375</td>\n",
       "      <td>-1.272164</td>\n",
       "      <td>1.948514</td>\n",
       "      <td>-0.583453</td>\n",
       "      <td>-0.540940</td>\n",
       "      <td>-0.666371</td>\n",
       "      <td>-0.783855</td>\n",
       "      <td>-0.728827</td>\n",
       "      <td>-0.229471</td>\n",
       "      <td>...</td>\n",
       "      <td>-0.877129</td>\n",
       "      <td>-0.832673</td>\n",
       "      <td>-0.871827</td>\n",
       "      <td>-0.084420</td>\n",
       "      <td>-0.229027</td>\n",
       "      <td>-0.341289</td>\n",
       "      <td>0.010568</td>\n",
       "      <td>0.051285</td>\n",
       "      <td>-0.828898</td>\n",
       "      <td>-0.756302</td>\n",
       "    </tr>\n",
       "    <tr>\n",
       "      <th>11089</th>\n",
       "      <td>1.268804</td>\n",
       "      <td>0.510196</td>\n",
       "      <td>0.475090</td>\n",
       "      <td>0.276977</td>\n",
       "      <td>-0.246655</td>\n",
       "      <td>-0.148178</td>\n",
       "      <td>-0.016001</td>\n",
       "      <td>0.015543</td>\n",
       "      <td>0.255599</td>\n",
       "      <td>-0.144272</td>\n",
       "      <td>...</td>\n",
       "      <td>-0.625148</td>\n",
       "      <td>0.318163</td>\n",
       "      <td>0.543220</td>\n",
       "      <td>0.517580</td>\n",
       "      <td>1.452491</td>\n",
       "      <td>-0.116760</td>\n",
       "      <td>1.214000</td>\n",
       "      <td>0.195939</td>\n",
       "      <td>-0.057456</td>\n",
       "      <td>0.101045</td>\n",
       "    </tr>\n",
       "    <tr>\n",
       "      <th>77026</th>\n",
       "      <td>-0.377083</td>\n",
       "      <td>-0.119288</td>\n",
       "      <td>0.029340</td>\n",
       "      <td>-0.353431</td>\n",
       "      <td>-0.167986</td>\n",
       "      <td>-0.166251</td>\n",
       "      <td>-0.012951</td>\n",
       "      <td>0.099064</td>\n",
       "      <td>0.208065</td>\n",
       "      <td>-0.229471</td>\n",
       "      <td>...</td>\n",
       "      <td>0.371452</td>\n",
       "      <td>0.401024</td>\n",
       "      <td>0.071537</td>\n",
       "      <td>0.088568</td>\n",
       "      <td>0.097019</td>\n",
       "      <td>0.093938</td>\n",
       "      <td>0.010568</td>\n",
       "      <td>-0.522316</td>\n",
       "      <td>-0.400722</td>\n",
       "      <td>-0.298783</td>\n",
       "    </tr>\n",
       "    <tr>\n",
       "      <th>35140</th>\n",
       "      <td>-0.415350</td>\n",
       "      <td>-0.290818</td>\n",
       "      <td>3.782251</td>\n",
       "      <td>-0.569723</td>\n",
       "      <td>-0.333225</td>\n",
       "      <td>2.244124</td>\n",
       "      <td>-0.293045</td>\n",
       "      <td>-0.403241</td>\n",
       "      <td>0.163822</td>\n",
       "      <td>-0.229471</td>\n",
       "      <td>...</td>\n",
       "      <td>5.256773</td>\n",
       "      <td>1.105336</td>\n",
       "      <td>0.071537</td>\n",
       "      <td>0.088568</td>\n",
       "      <td>0.097019</td>\n",
       "      <td>0.093938</td>\n",
       "      <td>0.010568</td>\n",
       "      <td>-0.555763</td>\n",
       "      <td>-0.423220</td>\n",
       "      <td>1.055343</td>\n",
       "    </tr>\n",
       "    <tr>\n",
       "      <th>62801</th>\n",
       "      <td>-0.123816</td>\n",
       "      <td>0.429343</td>\n",
       "      <td>0.752835</td>\n",
       "      <td>-0.426503</td>\n",
       "      <td>-0.404153</td>\n",
       "      <td>-0.405142</td>\n",
       "      <td>0.289156</td>\n",
       "      <td>1.200099</td>\n",
       "      <td>1.211072</td>\n",
       "      <td>-0.229471</td>\n",
       "      <td>...</td>\n",
       "      <td>0.876830</td>\n",
       "      <td>0.087996</td>\n",
       "      <td>0.071537</td>\n",
       "      <td>0.088568</td>\n",
       "      <td>0.097019</td>\n",
       "      <td>0.093938</td>\n",
       "      <td>0.010568</td>\n",
       "      <td>-0.371809</td>\n",
       "      <td>-0.269367</td>\n",
       "      <td>-0.011131</td>\n",
       "    </tr>\n",
       "  </tbody>\n",
       "</table>\n",
       "<p>5 rows × 187 columns</p>\n",
       "</div>"
      ],
      "text/plain": [
       "         arpu_6    arpu_7    arpu_8  onnet_mou_6  onnet_mou_7  onnet_mou_8  \\\n",
       "72122  0.225901 -1.494375 -1.272164     1.948514    -0.583453    -0.540940   \n",
       "11089  1.268804  0.510196  0.475090     0.276977    -0.246655    -0.148178   \n",
       "77026 -0.377083 -0.119288  0.029340    -0.353431    -0.167986    -0.166251   \n",
       "35140 -0.415350 -0.290818  3.782251    -0.569723    -0.333225     2.244124   \n",
       "62801 -0.123816  0.429343  0.752835    -0.426503    -0.404153    -0.405142   \n",
       "\n",
       "       offnet_mou_6  offnet_mou_7  offnet_mou_8  roam_ic_mou_6  ...  \\\n",
       "72122     -0.666371     -0.783855     -0.728827      -0.229471  ...   \n",
       "11089     -0.016001      0.015543      0.255599      -0.144272  ...   \n",
       "77026     -0.012951      0.099064      0.208065      -0.229471  ...   \n",
       "35140     -0.293045     -0.403241      0.163822      -0.229471  ...   \n",
       "62801      0.289156      1.200099      1.211072      -0.229471  ...   \n",
       "\n",
       "       total_rech_amt_diff  max_rech_amt_diff  total_rech_data_diff  \\\n",
       "72122            -0.877129          -0.832673             -0.871827   \n",
       "11089            -0.625148           0.318163              0.543220   \n",
       "77026             0.371452           0.401024              0.071537   \n",
       "35140             5.256773           1.105336              0.071537   \n",
       "62801             0.876830           0.087996              0.071537   \n",
       "\n",
       "       max_rech_data_diff  av_rech_amt_data_diff  vol_2g_mb_diff  \\\n",
       "72122           -0.084420              -0.229027       -0.341289   \n",
       "11089            0.517580               1.452491       -0.116760   \n",
       "77026            0.088568               0.097019        0.093938   \n",
       "35140            0.088568               0.097019        0.093938   \n",
       "62801            0.088568               0.097019        0.093938   \n",
       "\n",
       "       vol_3g_mb_diff  total_value_6  total_value_7  total_value_8  \n",
       "72122        0.010568       0.051285      -0.828898      -0.756302  \n",
       "11089        1.214000       0.195939      -0.057456       0.101045  \n",
       "77026        0.010568      -0.522316      -0.400722      -0.298783  \n",
       "35140        0.010568      -0.555763      -0.423220       1.055343  \n",
       "62801        0.010568      -0.371809      -0.269367      -0.011131  \n",
       "\n",
       "[5 rows x 187 columns]"
      ]
     },
     "execution_count": 49,
     "metadata": {},
     "output_type": "execute_result"
    }
   ],
   "source": [
    "# Using Standard Scaling for numerical columns only\n",
    "\n",
    "from sklearn.preprocessing import StandardScaler\n",
    "\n",
    "scaling = StandardScaler()\n",
    "x_train[num_columns_list] = scaling.fit_transform(x_train[num_columns_list])\n",
    "x_test[num_columns_list] = scaling.transform(x_test[num_columns_list])\n",
    "x_train.head()"
   ]
  },
  {
   "cell_type": "markdown",
   "id": "1b6a0b93",
   "metadata": {},
   "source": [
    "### Dimentionality Reduction with PCA"
   ]
  },
  {
   "cell_type": "code",
   "execution_count": 50,
   "id": "d4989e75",
   "metadata": {},
   "outputs": [
    {
     "data": {
      "text/plain": [
       "PCA()"
      ]
     },
     "execution_count": 50,
     "metadata": {},
     "output_type": "execute_result"
    }
   ],
   "source": [
    "from sklearn.decomposition import PCA\n",
    "\n",
    "pca = PCA()\n",
    "pca.fit(x_train[num_columns_list])"
   ]
  },
  {
   "cell_type": "code",
   "execution_count": 51,
   "id": "3005cb65",
   "metadata": {},
   "outputs": [
    {
     "data": {
      "text/plain": [
       "{'arpu_6': 11.901121842297991,\n",
       " 'arpu_7': 9.68079631440021,\n",
       " 'arpu_8': 5.6550082364735035,\n",
       " 'onnet_mou_6': 5.200544466209937,\n",
       " 'onnet_mou_7': 4.533693367740935,\n",
       " 'onnet_mou_8': 3.2389592713810886,\n",
       " 'offnet_mou_6': 2.6427474462702865,\n",
       " 'offnet_mou_7': 2.5725593808624643,\n",
       " 'offnet_mou_8': 2.28303821473942,\n",
       " 'roam_ic_mou_6': 2.0951450460378083,\n",
       " 'roam_ic_mou_7': 1.9686292651606903,\n",
       " 'roam_ic_mou_8': 1.8610716441471158,\n",
       " 'roam_og_mou_6': 1.7171287525122436,\n",
       " 'roam_og_mou_7': 1.599852094097947,\n",
       " 'roam_og_mou_8': 1.5469494050203016,\n",
       " 'loc_og_t2t_mou_6': 1.5059152783952465,\n",
       " 'loc_og_t2t_mou_7': 1.4827366501819461,\n",
       " 'loc_og_t2t_mou_8': 1.4380820503867024,\n",
       " 'loc_og_t2m_mou_6': 1.3764022967243081,\n",
       " 'loc_og_t2m_mou_7': 1.3183773287902445,\n",
       " 'loc_og_t2m_mou_8': 1.2933430055449209,\n",
       " 'loc_og_t2f_mou_6': 1.2706646902504923,\n",
       " 'loc_og_t2f_mou_7': 1.236966822937078,\n",
       " 'loc_og_t2f_mou_8': 1.1411449320003084,\n",
       " 'loc_og_t2c_mou_6': 1.0987814369026168,\n",
       " 'loc_og_t2c_mou_7': 0.987271891641692,\n",
       " 'loc_og_t2c_mou_8': 0.9522857802400716,\n",
       " 'loc_og_mou_6': 0.9485650025473895,\n",
       " 'loc_og_mou_7': 0.9109586274761008,\n",
       " 'loc_og_mou_8': 0.8970319177633113,\n",
       " 'std_og_t2t_mou_6': 0.8744277622366613,\n",
       " 'std_og_t2t_mou_7': 0.8652029369186838,\n",
       " 'std_og_t2t_mou_8': 0.7997506655943716,\n",
       " 'std_og_t2m_mou_6': 0.7692943788615278,\n",
       " 'std_og_t2m_mou_7': 0.7500243471990871,\n",
       " 'std_og_t2m_mou_8': 0.7038143187088045,\n",
       " 'std_og_t2f_mou_6': 0.6901400974730685,\n",
       " 'std_og_t2f_mou_7': 0.6736367081353712,\n",
       " 'std_og_t2f_mou_8': 0.6621339846048142,\n",
       " 'std_og_mou_6': 0.6450166950315643,\n",
       " 'std_og_mou_7': 0.6319276178194231,\n",
       " 'std_og_mou_8': 0.61822573044764,\n",
       " 'isd_og_mou_6': 0.5720907641718902,\n",
       " 'isd_og_mou_7': 0.5295810373529773,\n",
       " 'isd_og_mou_8': 0.5203147459787051,\n",
       " 'spl_og_mou_6': 0.5020505783534881,\n",
       " 'spl_og_mou_7': 0.4617982975805665,\n",
       " 'spl_og_mou_8': 0.4598273438927626,\n",
       " 'og_others_6': 0.4550121112431706,\n",
       " 'og_others_7': 0.4405595747720069,\n",
       " 'og_others_8': 0.4341989994092044,\n",
       " 'total_og_mou_6': 0.40889615770943516,\n",
       " 'total_og_mou_7': 0.3991591995003446,\n",
       " 'total_og_mou_8': 0.38404784783099133,\n",
       " 'loc_ic_t2t_mou_6': 0.3642560366042083,\n",
       " 'loc_ic_t2t_mou_7': 0.35866018673297456,\n",
       " 'loc_ic_t2t_mou_8': 0.3289684247927726,\n",
       " 'loc_ic_t2m_mou_6': 0.3194756576758667,\n",
       " 'loc_ic_t2m_mou_7': 0.3157531971457672,\n",
       " 'loc_ic_t2m_mou_8': 0.30234135456513883,\n",
       " 'loc_ic_t2f_mou_6': 0.2957533402175509,\n",
       " 'loc_ic_t2f_mou_7': 0.2804005542218853,\n",
       " 'loc_ic_t2f_mou_8': 0.26705046466345805,\n",
       " 'loc_ic_mou_6': 0.25766590851254695,\n",
       " 'loc_ic_mou_7': 0.2502247722948461,\n",
       " 'loc_ic_mou_8': 0.24697974114426033,\n",
       " 'std_ic_t2t_mou_6': 0.2418559975025234,\n",
       " 'std_ic_t2t_mou_7': 0.23573653822396806,\n",
       " 'std_ic_t2t_mou_8': 0.23480495831374118,\n",
       " 'std_ic_t2m_mou_6': 0.23224215681257546,\n",
       " 'std_ic_t2m_mou_7': 0.22046724992833322,\n",
       " 'std_ic_t2m_mou_8': 0.213635854978127}"
      ]
     },
     "execution_count": 51,
     "metadata": {},
     "output_type": "execute_result"
    }
   ],
   "source": [
    "var_explain = {k:v*100 for (k,v) in dict(zip(num_columns_list, pca.explained_variance_ratio_)).items() if v*100 > .2}\n",
    "var_explain"
   ]
  },
  {
   "cell_type": "code",
   "execution_count": 52,
   "id": "0d405617",
   "metadata": {},
   "outputs": [
    {
     "data": {
      "text/plain": [
       "95.57317675429151"
      ]
     },
     "execution_count": 52,
     "metadata": {},
     "output_type": "execute_result"
    }
   ],
   "source": [
    "# percentage of variance explained by pca\n",
    "sum(var_explain.values())"
   ]
  },
  {
   "cell_type": "code",
   "execution_count": 53,
   "id": "f479a192",
   "metadata": {},
   "outputs": [
    {
     "data": {
      "text/plain": [
       "72"
      ]
     },
     "execution_count": 53,
     "metadata": {},
     "output_type": "execute_result"
    }
   ],
   "source": [
    "# number of components\n",
    "len(var_explain.values())"
   ]
  },
  {
   "cell_type": "code",
   "execution_count": 54,
   "id": "11c6c2da",
   "metadata": {},
   "outputs": [
    {
     "data": {
      "text/plain": [
       "[<matplotlib.lines.Line2D at 0x7f8b556ef990>]"
      ]
     },
     "execution_count": 54,
     "metadata": {},
     "output_type": "execute_result"
    },
    {
     "data": {
      "image/png": "[encoded data removed]",
      "text/plain": [
       "<Figure size 630x360 with 1 Axes>"
      ]
     },
     "metadata": {
      "needs_background": "light"
     },
     "output_type": "display_data"
    }
   ],
   "source": [
    "# plot feature variance\n",
    "features = range(pca.n_components_)\n",
    "cumulative_variance = np.round(np.cumsum(pca.explained_variance_ratio_)*100, decimals=4)\n",
    "plt.figure(figsize=(175/20,100/20))\n",
    "plt.plot(cumulative_variance)"
   ]
  },
  {
   "cell_type": "code",
   "execution_count": 55,
   "id": "58b0b851",
   "metadata": {},
   "outputs": [
    {
     "data": {
      "text/plain": [
       "(21030, 70)"
      ]
     },
     "execution_count": 55,
     "metadata": {},
     "output_type": "execute_result"
    }
   ],
   "source": [
    "# doing pca with 70 components as they explain about 95% of variance\n",
    "\n",
    "pca = PCA(70)\n",
    "x_train_pca = pca.fit_transform(x_train[num_columns_list])\n",
    "x_train_pca.shape"
   ]
  },
  {
   "cell_type": "code",
   "execution_count": 56,
   "id": "d8de5147",
   "metadata": {},
   "outputs": [
    {
     "data": {
      "text/plain": [
       "0.9512004770696174"
      ]
     },
     "execution_count": 56,
     "metadata": {},
     "output_type": "execute_result"
    }
   ],
   "source": [
    "sum(pca.explained_variance_ratio_)"
   ]
  },
  {
   "cell_type": "code",
   "execution_count": 57,
   "id": "3fec4a7e",
   "metadata": {},
   "outputs": [
    {
     "data": {
      "text/plain": [
       "(21030, 76)"
      ]
     },
     "execution_count": 57,
     "metadata": {},
     "output_type": "execute_result"
    }
   ],
   "source": [
    "# adding categorical columns to x_train_pca\n",
    "x_train_pca = np.concatenate((x_train_pca, x_train[cat_column_list_3]), axis=1)\n",
    "x_train_pca.shape"
   ]
  },
  {
   "cell_type": "code",
   "execution_count": 58,
   "id": "2cf096ee",
   "metadata": {},
   "outputs": [
    {
     "data": {
      "text/plain": [
       "(7011, 76)"
      ]
     },
     "execution_count": 58,
     "metadata": {},
     "output_type": "execute_result"
    }
   ],
   "source": [
    "# applying pca for test set also\n",
    "x_test_pca = pca.transform(x_test[num_columns_list])\n",
    "x_test_pca = np.concatenate((x_test_pca, x_test[cat_column_list_3]), axis=1)\n",
    "x_test_pca.shape"
   ]
  },
  {
   "cell_type": "markdown",
   "id": "7292ee98",
   "metadata": {},
   "source": [
    "### XGBoost Base Line Model"
   ]
  },
  {
   "cell_type": "code",
   "execution_count": 59,
   "id": "79c25911",
   "metadata": {},
   "outputs": [],
   "source": [
    "# function to calculate specificity which we need to optimise in this task\n",
    "def specificity(y_true, y_pred):\n",
    "    tn, fp, fn, tp = confusion_matrix(y_true, y_pred).ravel()\n",
    "    return tn / (tn+fp)"
   ]
  },
  {
   "cell_type": "code",
   "execution_count": 60,
   "id": "99c94f58",
   "metadata": {},
   "outputs": [
    {
     "data": {
      "text/plain": [
       "XGBClassifier(base_score=None, booster=None, colsample_bylevel=None,\n",
       "              colsample_bynode=None, colsample_bytree=None, gamma=None,\n",
       "              gpu_id=None, importance_type='gain', interaction_constraints=None,\n",
       "              learning_rate=None, max_delta_step=None, max_depth=None,\n",
       "              min_child_weight=None, missing=nan, monotone_constraints=None,\n",
       "              n_estimators=100, n_jobs=-1, num_parallel_tree=None,\n",
       "              random_state=None, reg_alpha=None, reg_lambda=None,\n",
       "              scale_pos_weight=None, subsample=None, tree_method=None,\n",
       "              validate_parameters=None, verbosity=None)"
      ]
     },
     "execution_count": 60,
     "metadata": {},
     "output_type": "execute_result"
    }
   ],
   "source": [
    "import xgboost as xgb\n",
    "\n",
    "# Model with default hyperparameters\n",
    "model = xgb.XGBClassifier(n_jobs = -1,objective = 'binary:logistic')\n",
    "model"
   ]
  },
  {
   "cell_type": "code",
   "execution_count": 61,
   "id": "6089b856",
   "metadata": {},
   "outputs": [
    {
     "name": "stdout",
     "output_type": "stream",
     "text": [
      "[20:32:46] WARNING: /Users/travis/build/dmlc/xgboost/src/learner.cc:1095: Starting in XGBoost 1.3.0, the default evaluation metric used with the objective 'binary:logistic' was changed from 'error' to 'logloss'. Explicitly set eval_metric if you'd like to restore the old behavior.\n"
     ]
    },
    {
     "data": {
      "text/plain": [
       "XGBClassifier(base_score=0.5, booster='gbtree', colsample_bylevel=1,\n",
       "              colsample_bynode=1, colsample_bytree=1, gamma=0, gpu_id=-1,\n",
       "              importance_type='gain', interaction_constraints='',\n",
       "              learning_rate=0.300000012, max_delta_step=0, max_depth=6,\n",
       "              min_child_weight=1, missing=nan, monotone_constraints='()',\n",
       "              n_estimators=100, n_jobs=-1, num_parallel_tree=1, random_state=0,\n",
       "              reg_alpha=0, reg_lambda=1, scale_pos_weight=1, subsample=1,\n",
       "              tree_method='exact', validate_parameters=1, verbosity=None)"
      ]
     },
     "execution_count": 61,
     "metadata": {},
     "output_type": "execute_result"
    }
   ],
   "source": [
    "model.fit(x_train_pca, y_train)"
   ]
  },
  {
   "cell_type": "code",
   "execution_count": 62,
   "id": "084c1a51",
   "metadata": {},
   "outputs": [
    {
     "data": {
      "text/plain": [
       "array([[19286,     0],\n",
       "       [    3,  1741]])"
      ]
     },
     "execution_count": 62,
     "metadata": {},
     "output_type": "execute_result"
    }
   ],
   "source": [
    "from sklearn.metrics import confusion_matrix, accuracy_score, precision_score, roc_auc_score\n",
    "y_train_pred = model.predict(x_train_pca)\n",
    "confusion_matrix(y_train, y_train_pred)"
   ]
  },
  {
   "cell_type": "code",
   "execution_count": 63,
   "id": "47f97efb",
   "metadata": {},
   "outputs": [
    {
     "data": {
      "text/plain": [
       "0.9991399082568808"
      ]
     },
     "execution_count": 63,
     "metadata": {},
     "output_type": "execute_result"
    }
   ],
   "source": [
    "# roc_auc score for training data\n",
    "roc_auc_score(y_train, y_train_pred)"
   ]
  },
  {
   "cell_type": "code",
   "execution_count": 64,
   "id": "50fe7088",
   "metadata": {},
   "outputs": [
    {
     "data": {
      "text/plain": [
       "1.0"
      ]
     },
     "execution_count": 64,
     "metadata": {},
     "output_type": "execute_result"
    }
   ],
   "source": [
    "# calculating specificity for training data\n",
    "specificity(y_train, y_train_pred)"
   ]
  },
  {
   "cell_type": "code",
   "execution_count": 65,
   "id": "ef117594",
   "metadata": {},
   "outputs": [
    {
     "data": {
      "text/plain": [
       "array([[6272,  158],\n",
       "       [ 389,  192]])"
      ]
     },
     "execution_count": 65,
     "metadata": {},
     "output_type": "execute_result"
    }
   ],
   "source": [
    "# printing confusion for testing data\n",
    "y_test_pred = model.predict(x_test_pca)\n",
    "confusion_matrix(y_test, y_test_pred)"
   ]
  },
  {
   "cell_type": "code",
   "execution_count": 66,
   "id": "16b9d549",
   "metadata": {},
   "outputs": [
    {
     "data": {
      "text/plain": [
       "0.6529461993720271"
      ]
     },
     "execution_count": 66,
     "metadata": {},
     "output_type": "execute_result"
    }
   ],
   "source": [
    "# roc_auc score for testing data\n",
    "roc_auc_score(y_test, y_test_pred)"
   ]
  },
  {
   "cell_type": "code",
   "execution_count": 67,
   "id": "e69a258e",
   "metadata": {},
   "outputs": [
    {
     "data": {
      "text/plain": [
       "0.9754276827371695"
      ]
     },
     "execution_count": 67,
     "metadata": {},
     "output_type": "execute_result"
    }
   ],
   "source": [
    "# calculating specificity for testing data\n",
    "specificity(y_test, y_test_pred)"
   ]
  },
  {
   "cell_type": "markdown",
   "id": "817f17d6",
   "metadata": {},
   "source": [
    "### XGBoost Hyperparameter Tuning\n",
    "\n",
    "#### Random Search CV"
   ]
  },
  {
   "cell_type": "code",
   "execution_count": 68,
   "id": "d1e19183",
   "metadata": {},
   "outputs": [],
   "source": [
    "from sklearn.model_selection import RandomizedSearchCV\n",
    "\n",
    "model = xgb.XGBClassifier(n_jobs = -1,objective = 'binary:logistic')\n",
    "\n",
    "params = {\n",
    "        'n_estimators' : [100, 200, 500, 750], # no of trees \n",
    "        'learning_rate' : [0.01, 0.02, 0.05, 0.1, 0.25],  # eta\n",
    "        'min_child_weight': [1, 5, 7, 10],\n",
    "        'gamma': [0.1, 0.5, 1, 1.5, 5],\n",
    "        'subsample': [0.6, 0.8, 1.0],\n",
    "        'colsample_bytree': [0.6, 0.8, 1.0],\n",
    "        'max_depth': [3, 4, 5, 10, 12]\n",
    "        }\n",
    "\n",
    "folds = 5\n",
    "\n",
    "param_comb = 25\n",
    "\n",
    "model_xgb = RandomizedSearchCV(model, param_distributions=params, n_iter=param_comb, scoring='roc_auc', \n",
    "                                   n_jobs=-1, cv=5, verbose=3, random_state=42)"
   ]
  },
  {
   "cell_type": "code",
   "execution_count": 69,
   "id": "413d198e",
   "metadata": {
    "scrolled": true
   },
   "outputs": [
    {
     "name": "stdout",
     "output_type": "stream",
     "text": [
      "Fitting 5 folds for each of 25 candidates, totalling 125 fits\n",
      "[21:09:42] WARNING: /Users/travis/build/dmlc/xgboost/src/learner.cc:1095: Starting in XGBoost 1.3.0, the default evaluation metric used with the objective 'binary:logistic' was changed from 'error' to 'logloss'. Explicitly set eval_metric if you'd like to restore the old behavior.\n"
     ]
    },
    {
     "data": {
      "text/plain": [
       "RandomizedSearchCV(cv=5,\n",
       "                   estimator=XGBClassifier(base_score=None, booster=None,\n",
       "                                           colsample_bylevel=None,\n",
       "                                           colsample_bynode=None,\n",
       "                                           colsample_bytree=None, gamma=None,\n",
       "                                           gpu_id=None, importance_type='gain',\n",
       "                                           interaction_constraints=None,\n",
       "                                           learning_rate=None,\n",
       "                                           max_delta_step=None, max_depth=None,\n",
       "                                           min_child_weight=None, missing=nan,\n",
       "                                           monotone_constraints=None,\n",
       "                                           n_estimators=100,...\n",
       "                                           subsample=None, tree_method=None,\n",
       "                                           validate_parameters=None,\n",
       "                                           verbosity=None),\n",
       "                   n_iter=25, n_jobs=-1,\n",
       "                   param_distributions={'colsample_bytree': [0.6, 0.8, 1.0],\n",
       "                                        'gamma': [0.1, 0.5, 1, 1.5, 5],\n",
       "                                        'learning_rate': [0.01, 0.02, 0.05, 0.1,\n",
       "                                                          0.25],\n",
       "                                        'max_depth': [3, 4, 5, 10, 12],\n",
       "                                        'min_child_weight': [1, 5, 7, 10],\n",
       "                                        'n_estimators': [100, 200, 500, 750],\n",
       "                                        'subsample': [0.6, 0.8, 1.0]},\n",
       "                   random_state=42, scoring='roc_auc', verbose=3)"
      ]
     },
     "execution_count": 69,
     "metadata": {},
     "output_type": "execute_result"
    }
   ],
   "source": [
    "model_xgb.fit(x_train_pca, y_train)"
   ]
  },
  {
   "cell_type": "code",
   "execution_count": 70,
   "id": "9c1d6459",
   "metadata": {},
   "outputs": [],
   "source": [
    "model = model_xgb.best_estimator_"
   ]
  },
  {
   "cell_type": "code",
   "execution_count": 71,
   "id": "99c9077b",
   "metadata": {},
   "outputs": [
    {
     "data": {
      "text/plain": [
       "XGBClassifier(base_score=0.5, booster='gbtree', colsample_bylevel=1,\n",
       "              colsample_bynode=1, colsample_bytree=0.6, gamma=0.1, gpu_id=-1,\n",
       "              importance_type='gain', interaction_constraints='',\n",
       "              learning_rate=0.01, max_delta_step=0, max_depth=10,\n",
       "              min_child_weight=10, missing=nan, monotone_constraints='()',\n",
       "              n_estimators=750, n_jobs=-1, num_parallel_tree=1, random_state=0,\n",
       "              reg_alpha=0, reg_lambda=1, scale_pos_weight=1, subsample=0.6,\n",
       "              tree_method='exact', validate_parameters=1, verbosity=None)"
      ]
     },
     "execution_count": 71,
     "metadata": {},
     "output_type": "execute_result"
    }
   ],
   "source": [
    "model"
   ]
  },
  {
   "cell_type": "code",
   "execution_count": 72,
   "id": "ff63b70a",
   "metadata": {},
   "outputs": [
    {
     "data": {
      "text/plain": [
       "array([[19257,    29],\n",
       "       [  628,  1116]])"
      ]
     },
     "execution_count": 72,
     "metadata": {},
     "output_type": "execute_result"
    }
   ],
   "source": [
    "from sklearn.metrics import confusion_matrix, accuracy_score, precision_score, roc_auc_score\n",
    "y_train_pred = model.predict(x_train_pca)\n",
    "confusion_matrix(y_train, y_train_pred)"
   ]
  },
  {
   "cell_type": "code",
   "execution_count": 73,
   "id": "47f97efb",
   "metadata": {},
   "outputs": [
    {
     "data": {
      "text/plain": [
       "0.8192022877268961"
      ]
     },
     "execution_count": 73,
     "metadata": {},
     "output_type": "execute_result"
    }
   ],
   "source": [
    "# roc_auc score for training data\n",
    "roc_auc_score(y_train, y_train_pred)"
   ]
  },
  {
   "cell_type": "code",
   "execution_count": 74,
   "id": "50fe7088",
   "metadata": {},
   "outputs": [
    {
     "data": {
      "text/plain": [
       "0.9984963185730582"
      ]
     },
     "execution_count": 74,
     "metadata": {},
     "output_type": "execute_result"
    }
   ],
   "source": [
    "# calculating specificity for training data\n",
    "specificity(y_train, y_train_pred)"
   ]
  },
  {
   "cell_type": "code",
   "execution_count": 75,
   "id": "ef117594",
   "metadata": {},
   "outputs": [
    {
     "data": {
      "text/plain": [
       "array([[6306,  124],\n",
       "       [ 382,  199]])"
      ]
     },
     "execution_count": 75,
     "metadata": {},
     "output_type": "execute_result"
    }
   ],
   "source": [
    "# printing confusion for testing data\n",
    "y_test_pred = model.predict(x_test_pca)\n",
    "confusion_matrix(y_test, y_test_pred)"
   ]
  },
  {
   "cell_type": "code",
   "execution_count": 76,
   "id": "16b9d549",
   "metadata": {},
   "outputs": [
    {
     "data": {
      "text/plain": [
       "0.6616141526782535"
      ]
     },
     "execution_count": 76,
     "metadata": {},
     "output_type": "execute_result"
    }
   ],
   "source": [
    "# roc_auc score for testing data\n",
    "roc_auc_score(y_test, y_test_pred)"
   ]
  },
  {
   "cell_type": "code",
   "execution_count": 77,
   "id": "e69a258e",
   "metadata": {},
   "outputs": [
    {
     "data": {
      "text/plain": [
       "0.9807153965785381"
      ]
     },
     "execution_count": 77,
     "metadata": {},
     "output_type": "execute_result"
    }
   ],
   "source": [
    "# calculating specificity for testing data\n",
    "specificity(y_test, y_test_pred)"
   ]
  },
  {
   "cell_type": "markdown",
   "id": "06dfd99c",
   "metadata": {},
   "source": [
    "#### Random Search CV with Pipeline"
   ]
  },
  {
   "cell_type": "code",
   "execution_count": 83,
   "id": "20cc7fbd",
   "metadata": {},
   "outputs": [],
   "source": [
    "from sklearn.model_selection import RandomizedSearchCV\n",
    "from sklearn.preprocessing import StandardScaler\n",
    "from sklearn.decomposition import PCA\n",
    "from sklearn.pipeline import Pipeline\n",
    "\n",
    "scale = StandardScaler()\n",
    "pca   = PCA()\n",
    "model = xgb.XGBClassifier(n_jobs = -1,objective = 'binary:logistic')\n",
    "\n",
    "steps = [\n",
    "    (\"scale\",scale),\n",
    "    (\"pca\",pca),\n",
    "    (\"xgb\",model)\n",
    "]\n",
    "\n",
    "pipeline = Pipeline(steps)\n",
    "\n",
    "params = {\n",
    "        'pca__n_components': [60, 80],\n",
    "        'xgb__n_estimators' : [100, 200, 500, 750], # no of trees \n",
    "        'xgb__learning_rate' : [0.01, 0.02, 0.05, 0.1, 0.25],  # eta\n",
    "        'xgb__min_child_weight': [1, 5, 7, 10],\n",
    "        'xgb__gamma': [0.1, 0.5, 1, 1.5, 5],\n",
    "        'xgb__subsample': [0.6, 0.8, 1.0],\n",
    "        'xgb__colsample_bytree': [0.6, 0.8, 1.0],\n",
    "        'xgb__max_depth': [3, 4, 5, 10, 12]\n",
    "        }\n",
    "\n",
    "folds = 5\n",
    "\n",
    "param_comb = 25\n",
    "\n",
    "model_xgb_pipeline = RandomizedSearchCV(pipeline, param_distributions=params, n_iter=param_comb, scoring='roc_auc', \n",
    "                                   n_jobs=-1, cv=5, verbose=3, random_state=42)"
   ]
  },
  {
   "cell_type": "code",
   "execution_count": 84,
   "id": "f2fcf346",
   "metadata": {},
   "outputs": [
    {
     "name": "stdout",
     "output_type": "stream",
     "text": [
      "Fitting 5 folds for each of 25 candidates, totalling 125 fits\n"
     ]
    },
    {
     "ename": "KeyboardInterrupt",
     "evalue": "",
     "output_type": "error",
     "traceback": [
      "\u001b[0;31m---------------------------------------------------------------------------\u001b[0m",
      "\u001b[0;31mKeyboardInterrupt\u001b[0m                         Traceback (most recent call last)",
      "\u001b[0;32m<ipython-input-84-3d2748248e8e>\u001b[0m in \u001b[0;36m<module>\u001b[0;34m\u001b[0m\n\u001b[0;32m----> 1\u001b[0;31m \u001b[0mmodel_xgb_pipeline\u001b[0m\u001b[0;34m.\u001b[0m\u001b[0mfit\u001b[0m\u001b[0;34m(\u001b[0m\u001b[0mx_train\u001b[0m\u001b[0;34m,\u001b[0m \u001b[0my_train\u001b[0m\u001b[0;34m)\u001b[0m\u001b[0;34m\u001b[0m\u001b[0;34m\u001b[0m\u001b[0m\n\u001b[0m",
      "\u001b[0;32m/opt/anaconda3/envs/core/lib/python3.7/site-packages/sklearn/utils/validation.py\u001b[0m in \u001b[0;36minner_f\u001b[0;34m(*args, **kwargs)\u001b[0m\n\u001b[1;32m     61\u001b[0m             \u001b[0mextra_args\u001b[0m \u001b[0;34m=\u001b[0m \u001b[0mlen\u001b[0m\u001b[0;34m(\u001b[0m\u001b[0margs\u001b[0m\u001b[0;34m)\u001b[0m \u001b[0;34m-\u001b[0m \u001b[0mlen\u001b[0m\u001b[0;34m(\u001b[0m\u001b[0mall_args\u001b[0m\u001b[0;34m)\u001b[0m\u001b[0;34m\u001b[0m\u001b[0;34m\u001b[0m\u001b[0m\n\u001b[1;32m     62\u001b[0m             \u001b[0;32mif\u001b[0m \u001b[0mextra_args\u001b[0m \u001b[0;34m<=\u001b[0m \u001b[0;36m0\u001b[0m\u001b[0;34m:\u001b[0m\u001b[0;34m\u001b[0m\u001b[0;34m\u001b[0m\u001b[0m\n\u001b[0;32m---> 63\u001b[0;31m                 \u001b[0;32mreturn\u001b[0m \u001b[0mf\u001b[0m\u001b[0;34m(\u001b[0m\u001b[0;34m*\u001b[0m\u001b[0margs\u001b[0m\u001b[0;34m,\u001b[0m \u001b[0;34m**\u001b[0m\u001b[0mkwargs\u001b[0m\u001b[0;34m)\u001b[0m\u001b[0;34m\u001b[0m\u001b[0;34m\u001b[0m\u001b[0m\n\u001b[0m\u001b[1;32m     64\u001b[0m \u001b[0;34m\u001b[0m\u001b[0m\n\u001b[1;32m     65\u001b[0m             \u001b[0;31m# extra_args > 0\u001b[0m\u001b[0;34m\u001b[0m\u001b[0;34m\u001b[0m\u001b[0;34m\u001b[0m\u001b[0m\n",
      "\u001b[0;32m/opt/anaconda3/envs/core/lib/python3.7/site-packages/sklearn/model_selection/_search.py\u001b[0m in \u001b[0;36mfit\u001b[0;34m(self, X, y, groups, **fit_params)\u001b[0m\n\u001b[1;32m    839\u001b[0m                 \u001b[0;32mreturn\u001b[0m \u001b[0mresults\u001b[0m\u001b[0;34m\u001b[0m\u001b[0;34m\u001b[0m\u001b[0m\n\u001b[1;32m    840\u001b[0m \u001b[0;34m\u001b[0m\u001b[0m\n\u001b[0;32m--> 841\u001b[0;31m             \u001b[0mself\u001b[0m\u001b[0;34m.\u001b[0m\u001b[0m_run_search\u001b[0m\u001b[0;34m(\u001b[0m\u001b[0mevaluate_candidates\u001b[0m\u001b[0;34m)\u001b[0m\u001b[0;34m\u001b[0m\u001b[0;34m\u001b[0m\u001b[0m\n\u001b[0m\u001b[1;32m    842\u001b[0m \u001b[0;34m\u001b[0m\u001b[0m\n\u001b[1;32m    843\u001b[0m             \u001b[0;31m# multimetric is determined here because in the case of a callable\u001b[0m\u001b[0;34m\u001b[0m\u001b[0;34m\u001b[0m\u001b[0;34m\u001b[0m\u001b[0m\n",
      "\u001b[0;32m/opt/anaconda3/envs/core/lib/python3.7/site-packages/sklearn/model_selection/_search.py\u001b[0m in \u001b[0;36m_run_search\u001b[0;34m(self, evaluate_candidates)\u001b[0m\n\u001b[1;32m   1619\u001b[0m         evaluate_candidates(ParameterSampler(\n\u001b[1;32m   1620\u001b[0m             \u001b[0mself\u001b[0m\u001b[0;34m.\u001b[0m\u001b[0mparam_distributions\u001b[0m\u001b[0;34m,\u001b[0m \u001b[0mself\u001b[0m\u001b[0;34m.\u001b[0m\u001b[0mn_iter\u001b[0m\u001b[0;34m,\u001b[0m\u001b[0;34m\u001b[0m\u001b[0;34m\u001b[0m\u001b[0m\n\u001b[0;32m-> 1621\u001b[0;31m             random_state=self.random_state))\n\u001b[0m",
      "\u001b[0;32m/opt/anaconda3/envs/core/lib/python3.7/site-packages/sklearn/model_selection/_search.py\u001b[0m in \u001b[0;36mevaluate_candidates\u001b[0;34m(candidate_params, cv, more_results)\u001b[0m\n\u001b[1;32m    807\u001b[0m                                    (split_idx, (train, test)) in product(\n\u001b[1;32m    808\u001b[0m                                    \u001b[0menumerate\u001b[0m\u001b[0;34m(\u001b[0m\u001b[0mcandidate_params\u001b[0m\u001b[0;34m)\u001b[0m\u001b[0;34m,\u001b[0m\u001b[0;34m\u001b[0m\u001b[0;34m\u001b[0m\u001b[0m\n\u001b[0;32m--> 809\u001b[0;31m                                    enumerate(cv.split(X, y, groups))))\n\u001b[0m\u001b[1;32m    810\u001b[0m \u001b[0;34m\u001b[0m\u001b[0m\n\u001b[1;32m    811\u001b[0m                 \u001b[0;32mif\u001b[0m \u001b[0mlen\u001b[0m\u001b[0;34m(\u001b[0m\u001b[0mout\u001b[0m\u001b[0;34m)\u001b[0m \u001b[0;34m<\u001b[0m \u001b[0;36m1\u001b[0m\u001b[0;34m:\u001b[0m\u001b[0;34m\u001b[0m\u001b[0;34m\u001b[0m\u001b[0m\n",
      "\u001b[0;32m/opt/anaconda3/envs/core/lib/python3.7/site-packages/joblib/parallel.py\u001b[0m in \u001b[0;36m__call__\u001b[0;34m(self, iterable)\u001b[0m\n\u001b[1;32m   1052\u001b[0m \u001b[0;34m\u001b[0m\u001b[0m\n\u001b[1;32m   1053\u001b[0m             \u001b[0;32mwith\u001b[0m \u001b[0mself\u001b[0m\u001b[0;34m.\u001b[0m\u001b[0m_backend\u001b[0m\u001b[0;34m.\u001b[0m\u001b[0mretrieval_context\u001b[0m\u001b[0;34m(\u001b[0m\u001b[0;34m)\u001b[0m\u001b[0;34m:\u001b[0m\u001b[0;34m\u001b[0m\u001b[0;34m\u001b[0m\u001b[0m\n\u001b[0;32m-> 1054\u001b[0;31m                 \u001b[0mself\u001b[0m\u001b[0;34m.\u001b[0m\u001b[0mretrieve\u001b[0m\u001b[0;34m(\u001b[0m\u001b[0;34m)\u001b[0m\u001b[0;34m\u001b[0m\u001b[0;34m\u001b[0m\u001b[0m\n\u001b[0m\u001b[1;32m   1055\u001b[0m             \u001b[0;31m# Make sure that we get a last message telling us we are done\u001b[0m\u001b[0;34m\u001b[0m\u001b[0;34m\u001b[0m\u001b[0;34m\u001b[0m\u001b[0m\n\u001b[1;32m   1056\u001b[0m             \u001b[0melapsed_time\u001b[0m \u001b[0;34m=\u001b[0m \u001b[0mtime\u001b[0m\u001b[0;34m.\u001b[0m\u001b[0mtime\u001b[0m\u001b[0;34m(\u001b[0m\u001b[0;34m)\u001b[0m \u001b[0;34m-\u001b[0m \u001b[0mself\u001b[0m\u001b[0;34m.\u001b[0m\u001b[0m_start_time\u001b[0m\u001b[0;34m\u001b[0m\u001b[0;34m\u001b[0m\u001b[0m\n",
      "\u001b[0;32m/opt/anaconda3/envs/core/lib/python3.7/site-packages/joblib/parallel.py\u001b[0m in \u001b[0;36mretrieve\u001b[0;34m(self)\u001b[0m\n\u001b[1;32m    931\u001b[0m             \u001b[0;32mtry\u001b[0m\u001b[0;34m:\u001b[0m\u001b[0;34m\u001b[0m\u001b[0;34m\u001b[0m\u001b[0m\n\u001b[1;32m    932\u001b[0m                 \u001b[0;32mif\u001b[0m \u001b[0mgetattr\u001b[0m\u001b[0;34m(\u001b[0m\u001b[0mself\u001b[0m\u001b[0;34m.\u001b[0m\u001b[0m_backend\u001b[0m\u001b[0;34m,\u001b[0m \u001b[0;34m'supports_timeout'\u001b[0m\u001b[0;34m,\u001b[0m \u001b[0;32mFalse\u001b[0m\u001b[0;34m)\u001b[0m\u001b[0;34m:\u001b[0m\u001b[0;34m\u001b[0m\u001b[0;34m\u001b[0m\u001b[0m\n\u001b[0;32m--> 933\u001b[0;31m                     \u001b[0mself\u001b[0m\u001b[0;34m.\u001b[0m\u001b[0m_output\u001b[0m\u001b[0;34m.\u001b[0m\u001b[0mextend\u001b[0m\u001b[0;34m(\u001b[0m\u001b[0mjob\u001b[0m\u001b[0;34m.\u001b[0m\u001b[0mget\u001b[0m\u001b[0;34m(\u001b[0m\u001b[0mtimeout\u001b[0m\u001b[0;34m=\u001b[0m\u001b[0mself\u001b[0m\u001b[0;34m.\u001b[0m\u001b[0mtimeout\u001b[0m\u001b[0;34m)\u001b[0m\u001b[0;34m)\u001b[0m\u001b[0;34m\u001b[0m\u001b[0;34m\u001b[0m\u001b[0m\n\u001b[0m\u001b[1;32m    934\u001b[0m                 \u001b[0;32melse\u001b[0m\u001b[0;34m:\u001b[0m\u001b[0;34m\u001b[0m\u001b[0;34m\u001b[0m\u001b[0m\n\u001b[1;32m    935\u001b[0m                     \u001b[0mself\u001b[0m\u001b[0;34m.\u001b[0m\u001b[0m_output\u001b[0m\u001b[0;34m.\u001b[0m\u001b[0mextend\u001b[0m\u001b[0;34m(\u001b[0m\u001b[0mjob\u001b[0m\u001b[0;34m.\u001b[0m\u001b[0mget\u001b[0m\u001b[0;34m(\u001b[0m\u001b[0;34m)\u001b[0m\u001b[0;34m)\u001b[0m\u001b[0;34m\u001b[0m\u001b[0;34m\u001b[0m\u001b[0m\n",
      "\u001b[0;32m/opt/anaconda3/envs/core/lib/python3.7/site-packages/joblib/_parallel_backends.py\u001b[0m in \u001b[0;36mwrap_future_result\u001b[0;34m(future, timeout)\u001b[0m\n\u001b[1;32m    540\u001b[0m         AsyncResults.get from multiprocessing.\"\"\"\n\u001b[1;32m    541\u001b[0m         \u001b[0;32mtry\u001b[0m\u001b[0;34m:\u001b[0m\u001b[0;34m\u001b[0m\u001b[0;34m\u001b[0m\u001b[0m\n\u001b[0;32m--> 542\u001b[0;31m             \u001b[0;32mreturn\u001b[0m \u001b[0mfuture\u001b[0m\u001b[0;34m.\u001b[0m\u001b[0mresult\u001b[0m\u001b[0;34m(\u001b[0m\u001b[0mtimeout\u001b[0m\u001b[0;34m=\u001b[0m\u001b[0mtimeout\u001b[0m\u001b[0;34m)\u001b[0m\u001b[0;34m\u001b[0m\u001b[0;34m\u001b[0m\u001b[0m\n\u001b[0m\u001b[1;32m    543\u001b[0m         \u001b[0;32mexcept\u001b[0m \u001b[0mCfTimeoutError\u001b[0m \u001b[0;32mas\u001b[0m \u001b[0me\u001b[0m\u001b[0;34m:\u001b[0m\u001b[0;34m\u001b[0m\u001b[0;34m\u001b[0m\u001b[0m\n\u001b[1;32m    544\u001b[0m             \u001b[0;32mraise\u001b[0m \u001b[0mTimeoutError\u001b[0m \u001b[0;32mfrom\u001b[0m \u001b[0me\u001b[0m\u001b[0;34m\u001b[0m\u001b[0;34m\u001b[0m\u001b[0m\n",
      "\u001b[0;32m/opt/anaconda3/envs/core/lib/python3.7/concurrent/futures/_base.py\u001b[0m in \u001b[0;36mresult\u001b[0;34m(self, timeout)\u001b[0m\n\u001b[1;32m    428\u001b[0m                 \u001b[0;32mreturn\u001b[0m \u001b[0mself\u001b[0m\u001b[0;34m.\u001b[0m\u001b[0m__get_result\u001b[0m\u001b[0;34m(\u001b[0m\u001b[0;34m)\u001b[0m\u001b[0;34m\u001b[0m\u001b[0;34m\u001b[0m\u001b[0m\n\u001b[1;32m    429\u001b[0m \u001b[0;34m\u001b[0m\u001b[0m\n\u001b[0;32m--> 430\u001b[0;31m             \u001b[0mself\u001b[0m\u001b[0;34m.\u001b[0m\u001b[0m_condition\u001b[0m\u001b[0;34m.\u001b[0m\u001b[0mwait\u001b[0m\u001b[0;34m(\u001b[0m\u001b[0mtimeout\u001b[0m\u001b[0;34m)\u001b[0m\u001b[0;34m\u001b[0m\u001b[0;34m\u001b[0m\u001b[0m\n\u001b[0m\u001b[1;32m    431\u001b[0m \u001b[0;34m\u001b[0m\u001b[0m\n\u001b[1;32m    432\u001b[0m             \u001b[0;32mif\u001b[0m \u001b[0mself\u001b[0m\u001b[0;34m.\u001b[0m\u001b[0m_state\u001b[0m \u001b[0;32min\u001b[0m \u001b[0;34m[\u001b[0m\u001b[0mCANCELLED\u001b[0m\u001b[0;34m,\u001b[0m \u001b[0mCANCELLED_AND_NOTIFIED\u001b[0m\u001b[0;34m]\u001b[0m\u001b[0;34m:\u001b[0m\u001b[0;34m\u001b[0m\u001b[0;34m\u001b[0m\u001b[0m\n",
      "\u001b[0;32m/opt/anaconda3/envs/core/lib/python3.7/threading.py\u001b[0m in \u001b[0;36mwait\u001b[0;34m(self, timeout)\u001b[0m\n\u001b[1;32m    294\u001b[0m         \u001b[0;32mtry\u001b[0m\u001b[0;34m:\u001b[0m    \u001b[0;31m# restore state no matter what (e.g., KeyboardInterrupt)\u001b[0m\u001b[0;34m\u001b[0m\u001b[0;34m\u001b[0m\u001b[0m\n\u001b[1;32m    295\u001b[0m             \u001b[0;32mif\u001b[0m \u001b[0mtimeout\u001b[0m \u001b[0;32mis\u001b[0m \u001b[0;32mNone\u001b[0m\u001b[0;34m:\u001b[0m\u001b[0;34m\u001b[0m\u001b[0;34m\u001b[0m\u001b[0m\n\u001b[0;32m--> 296\u001b[0;31m                 \u001b[0mwaiter\u001b[0m\u001b[0;34m.\u001b[0m\u001b[0macquire\u001b[0m\u001b[0;34m(\u001b[0m\u001b[0;34m)\u001b[0m\u001b[0;34m\u001b[0m\u001b[0;34m\u001b[0m\u001b[0m\n\u001b[0m\u001b[1;32m    297\u001b[0m                 \u001b[0mgotit\u001b[0m \u001b[0;34m=\u001b[0m \u001b[0;32mTrue\u001b[0m\u001b[0;34m\u001b[0m\u001b[0;34m\u001b[0m\u001b[0m\n\u001b[1;32m    298\u001b[0m             \u001b[0;32melse\u001b[0m\u001b[0;34m:\u001b[0m\u001b[0;34m\u001b[0m\u001b[0;34m\u001b[0m\u001b[0m\n",
      "\u001b[0;31mKeyboardInterrupt\u001b[0m: "
     ]
    }
   ],
   "source": [
    "model_xgb_pipeline.fit(x_train, y_train)"
   ]
  },
  {
   "cell_type": "code",
   "execution_count": 79,
   "id": "c3bc7d8f",
   "metadata": {},
   "outputs": [],
   "source": [
    "model = model_xgb.best_estimator_"
   ]
  },
  {
   "cell_type": "code",
   "execution_count": 71,
   "id": "f038e656",
   "metadata": {},
   "outputs": [
    {
     "data": {
      "text/plain": [
       "XGBClassifier(base_score=0.5, booster='gbtree', colsample_bylevel=1,\n",
       "              colsample_bynode=1, colsample_bytree=0.6, gamma=0.1, gpu_id=-1,\n",
       "              importance_type='gain', interaction_constraints='',\n",
       "              learning_rate=0.01, max_delta_step=0, max_depth=10,\n",
       "              min_child_weight=10, missing=nan, monotone_constraints='()',\n",
       "              n_estimators=750, n_jobs=-1, num_parallel_tree=1, random_state=0,\n",
       "              reg_alpha=0, reg_lambda=1, scale_pos_weight=1, subsample=0.6,\n",
       "              tree_method='exact', validate_parameters=1, verbosity=None)"
      ]
     },
     "execution_count": 71,
     "metadata": {},
     "output_type": "execute_result"
    }
   ],
   "source": [
    "model"
   ]
  },
  {
   "cell_type": "code",
   "execution_count": 72,
   "id": "084c1a51",
   "metadata": {},
   "outputs": [
    {
     "data": {
      "text/plain": [
       "array([[19257,    29],\n",
       "       [  628,  1116]])"
      ]
     },
     "execution_count": 72,
     "metadata": {},
     "output_type": "execute_result"
    }
   ],
   "source": [
    "from sklearn.metrics import confusion_matrix, accuracy_score, precision_score, roc_auc_score\n",
    "y_train_pred = model.predict(x_train_pca)\n",
    "confusion_matrix(y_train, y_train_pred)"
   ]
  },
  {
   "cell_type": "code",
   "execution_count": 73,
   "id": "47f97efb",
   "metadata": {},
   "outputs": [
    {
     "data": {
      "text/plain": [
       "0.8192022877268961"
      ]
     },
     "execution_count": 73,
     "metadata": {},
     "output_type": "execute_result"
    }
   ],
   "source": [
    "# roc_auc score for training data\n",
    "roc_auc_score(y_train, y_train_pred)"
   ]
  },
  {
   "cell_type": "code",
   "execution_count": 74,
   "id": "50fe7088",
   "metadata": {},
   "outputs": [
    {
     "data": {
      "text/plain": [
       "0.9984963185730582"
      ]
     },
     "execution_count": 74,
     "metadata": {},
     "output_type": "execute_result"
    }
   ],
   "source": [
    "# calculating specificity for training data\n",
    "specificity(y_train, y_train_pred)"
   ]
  },
  {
   "cell_type": "code",
   "execution_count": 75,
   "id": "ef117594",
   "metadata": {},
   "outputs": [
    {
     "data": {
      "text/plain": [
       "array([[6306,  124],\n",
       "       [ 382,  199]])"
      ]
     },
     "execution_count": 75,
     "metadata": {},
     "output_type": "execute_result"
    }
   ],
   "source": [
    "# printing confusion for testing data\n",
    "y_test_pred = model.predict(x_test_pca)\n",
    "confusion_matrix(y_test, y_test_pred)"
   ]
  },
  {
   "cell_type": "code",
   "execution_count": 76,
   "id": "16b9d549",
   "metadata": {},
   "outputs": [
    {
     "data": {
      "text/plain": [
       "0.6616141526782535"
      ]
     },
     "execution_count": 76,
     "metadata": {},
     "output_type": "execute_result"
    }
   ],
   "source": [
    "# roc_auc score for testing data\n",
    "roc_auc_score(y_test, y_test_pred)"
   ]
  },
  {
   "cell_type": "code",
   "execution_count": 77,
   "id": "e69a258e",
   "metadata": {},
   "outputs": [
    {
     "data": {
      "text/plain": [
       "0.9807153965785381"
      ]
     },
     "execution_count": 77,
     "metadata": {},
     "output_type": "execute_result"
    }
   ],
   "source": [
    "# calculating specificity for testing data\n",
    "specificity(y_test, y_test_pred)"
   ]
  },
  {
   "cell_type": "markdown",
   "id": "8143aab4",
   "metadata": {},
   "source": []
  }
 ],
 "metadata": {
  "kernelspec": {
   "display_name": "Python [conda env:core] *",
   "language": "python",
   "name": "conda-env-core-py"
  },
  "language_info": {
   "codemirror_mode": {
    "name": "ipython",
    "version": 3
   },
   "file_extension": ".py",
   "mimetype": "text/x-python",
   "name": "python",
   "nbconvert_exporter": "python",
   "pygments_lexer": "ipython3",
   "version": "3.7.9"
  }
 },
 "nbformat": 4,
 "nbformat_minor": 5
}
